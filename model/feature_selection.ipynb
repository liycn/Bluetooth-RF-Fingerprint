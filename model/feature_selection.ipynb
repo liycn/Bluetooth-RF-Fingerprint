{
 "cells": [
  {
   "cell_type": "code",
   "execution_count": null,
   "metadata": {},
   "outputs": [],
   "source": [
    "import numpy as np\n",
    "import pandas as pd\n",
    "import matplotlib.pyplot as plt\n",
    "import seaborn as sns\n",
    "import warnings, os, sys, shutil\n",
    "import xgboost as xgb\n",
    "import lightgbm as lgb\n",
    "from catboost import CatBoost, CatBoostClassifier\n",
    "from xgboost import plot_importance\n",
    "from typing import Tuple\n",
    "from utility import *\n",
    "from sklearn.utils import shuffle\n",
    "from sklearn.preprocessing import StandardScaler\n",
    "from sklearn.model_selection import train_test_split\n",
    "from sklearn.metrics import roc_auc_score, accuracy_score, log_loss\n",
    "from sklearn.feature_selection import SelectFromModel, f_classif, SelectKBest, RFE\n",
    "warnings.filterwarnings(\"ignore\")"
   ]
  },
  {
   "cell_type": "code",
   "execution_count": 5,
   "metadata": {},
   "outputs": [],
   "source": [
    "# 读入数据并打乱，保证数据的随机性\n",
    "train = pd.read_csv('../preprocessed/combined_features_256.csv')\n",
    "test = pd.read_csv('../preprocessed/combined_features_256_test.csv')\n",
    "train = shuffle(train, random_state=42)\n",
    "# 连续变量归一化处理\n",
    "# scaler = StandardScaler()\n",
    "labels = train['label']\n",
    "\n",
    "features = train.drop('label', axis=1)\n",
    "# features_col = features.columns\n",
    "# print(features_col)\n",
    "# features = scaler.fit_transform(features)\n",
    "# 数据集分割\n",
    "# x_train, x_test, y_train, y_test = train_test_split(features, labels, test_size=0.2, random_state=42)\n",
    "x_train = features\n",
    "y_train = labels\n",
    "y_test  = test['label']\n",
    "x_test  = test.drop('label', axis=1)"
   ]
  },
  {
   "cell_type": "code",
   "execution_count": null,
   "metadata": {},
   "outputs": [],
   "source": [
    "# 1. 使用XGBoost的内置特征重要性\n",
    "# 训练模型\n",
    "# x_train = pd.DataFrame(x_train, columns=features_col)\n",
    "# x_test = pd.DataFrame(x_test, columns=features_col)\n",
    "model = xgb.XGBClassifier()\n",
    "model.fit(x_train, y_train)\n",
    "# 打印特征重要性\n",
    "# weight：特征在所有树中用作分裂特征的次数。\n",
    "# gain：特征用作分裂特征时带来的平均增益。\n",
    "# cover：特征用作分裂特征时覆盖的平均样本数量。\n",
    "importance_type = 'weight'\n",
    "importances = model.get_booster().get_score(importance_type=importance_type)  # 或 'gain' 或 'cover' 或 'weight'\n",
    "importances = sorted(importances.items(), key=lambda x: x[1], reverse=True)\n",
    "# 可视化特征重要性\n",
    "plot_importance(model, importance_type=importance_type)\n",
    "plt.title(importance_type)\n",
    "plt.show()\n",
    "# print(len(importances))"
   ]
  },
  {
   "cell_type": "code",
   "execution_count": 7,
   "metadata": {},
   "outputs": [],
   "source": [
    "params =  {'booster': 'dart',\n",
    "           'lambda': 0.001642503154410547, \n",
    "           'alpha': 2.8456229527881028e-08, \n",
    "           'subsample': 0.3431387440085293, \n",
    "           'colsample_bytree': 0.5217278257570154, \n",
    "           'learning_rate': 0.026933381156000847, \n",
    "           'n_estimators': 815, \n",
    "           'max_depth': 14, \n",
    "           'eta': 0.06455751355230073, \n",
    "           'gamma': 0.06478402966069816, \n",
    "           'grow_policy': 'depthwise', \n",
    "           'sample_type': 'weighted', \n",
    "           'normalize_type': 'forest',\n",
    "           'rate_drop': 1.0795037051330119e-05, \n",
    "           'skip_drop': 3.654340342849924e-05}"
   ]
  },
  {
   "cell_type": "code",
   "execution_count": null,
   "metadata": {},
   "outputs": [],
   "source": [
    "\n",
    "sorted_feature = [_[0] for _ in importances][:3]\n",
    "x_train = x_train[sorted_feature]\n",
    "x_test  = x_test[sorted_feature]\n",
    "\n",
    "xgb_c = xgb.XGBClassifier(eval_metric='logloss')\n",
    "xgb_c.fit(x_train, y_train)\n",
    "xgb_pred = xgb_c.predict(x_test)\n",
    "y_pred = xgb_c.predict_proba(x_test)\n",
    "xgb_accuracy = accuracy_score(xgb_pred, y_test)\n",
    "\n",
    "xgb_accuracy"
   ]
  },
  {
   "cell_type": "code",
   "execution_count": null,
   "metadata": {},
   "outputs": [],
   "source": [
    "# 2. 递归特征消除 (RFE)\n",
    "# 创建RFE对象\n",
    "\n",
    "rfe = RFE(estimator=xgb.XGBClassifier(eval_metric='logloss'), n_features_to_select=7)\n",
    "rfe.fit(x_train, y_train)\n",
    "\n",
    "pre = rfe.predict(x_test)\n",
    "accuracy_score(pre, y_test)\n"
   ]
  },
  {
   "cell_type": "code",
   "execution_count": null,
   "metadata": {},
   "outputs": [],
   "source": [
    "xgb_c = xgb.XGBClassifier(**params)\n",
    "xgb_c.fit(x_train, y_train)\n",
    "xgb_pred = xgb_c.predict(x_test)\n",
    "y_pred = xgb_c.predict_proba(x_test)\n",
    "xgb_accuracy = accuracy_score(xgb_pred, y_test)\n",
    "# xgb_pred\n",
    "xgb_accuracy\n"
   ]
  },
  {
   "cell_type": "code",
   "execution_count": null,
   "metadata": {},
   "outputs": [],
   "source": []
  }
 ],
 "metadata": {
  "kernelspec": {
   "display_name": "bt",
   "language": "python",
   "name": "python3"
  },
  "language_info": {
   "codemirror_mode": {
    "name": "ipython",
    "version": 3
   },
   "file_extension": ".py",
   "mimetype": "text/x-python",
   "name": "python",
   "nbconvert_exporter": "python",
   "pygments_lexer": "ipython3",
   "version": "3.10.16"
  },
  "orig_nbformat": 4
 },
 "nbformat": 4,
 "nbformat_minor": 2
}
