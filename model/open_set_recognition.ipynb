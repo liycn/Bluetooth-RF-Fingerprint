{
 "cells": [
  {
   "cell_type": "code",
   "execution_count": null,
   "id": "800db82c",
   "metadata": {},
   "outputs": [],
   "source": [
    "from network import *"
   ]
  },
  {
   "cell_type": "code",
   "execution_count": null,
   "id": "e101ca27",
   "metadata": {},
   "outputs": [],
   "source": [
    "def predict_device_with_unknown_detection(model, iq_file_path, scalers, device, confidence_threshold=0.7):\n",
    "    \"\"\"预测设备类型，包含未知设备检测\"\"\"\n",
    "    # 读取数据\n",
    "    data = load_iq_file(iq_file_path)\n",
    "    \n",
    "    # 分段数据\n",
    "    segment_length = 1024  # 与训练时相同\n",
    "    num_segments = len(data) // segment_length\n",
    "    segments = data[:num_segments * segment_length].reshape(num_segments, segment_length)\n",
    "    \n",
    "    # 创建数据集和加载器\n",
    "    dataset = ComplexSignalDataset(segments, np.zeros(len(segments)), scalers[0], scalers[1])\n",
    "    dataloader = DataLoader(dataset, batch_size=32, shuffle=False)\n",
    "    \n",
    "    # 预测\n",
    "    model.eval()\n",
    "    all_probs = []\n",
    "    \n",
    "    with torch.no_grad():\n",
    "        for inputs, _ in dataloader:\n",
    "            inputs = inputs.to(device)\n",
    "            outputs = model(inputs)\n",
    "            probs = F.softmax(outputs, dim=1)\n",
    "            all_probs.append(probs.cpu().numpy())\n",
    "    \n",
    "    all_probs = np.vstack(all_probs)\n",
    "    \n",
    "    # 获取最高概率及其对应的类别\n",
    "    max_probs = np.max(all_probs, axis=1)\n",
    "    predictions = np.argmax(all_probs, axis=1)\n",
    "    \n",
    "    # 计算每个段的平均置信度\n",
    "    avg_confidence = np.mean(max_probs)\n",
    "    \n",
    "    # 统计各类别的数量\n",
    "    unique, counts = np.unique(predictions, return_counts=True)\n",
    "    result = dict(zip(unique, counts))\n",
    "    \n",
    "    # 映射到设备名称\n",
    "    device_names = ['bladerf', 'hackrf0', 'hackrf1', 'limesdr']\n",
    "    final_result = {device_names[int(k)]: v for k, v in result.items()}\n",
    "    \n",
    "    # 判断是否为未知设备\n",
    "    if avg_confidence < confidence_threshold:\n",
    "        return \"未知设备\", final_result, avg_confidence\n",
    "    else:\n",
    "        # 返回出现最多的设备类型\n",
    "        majority_device = max(final_result, key=final_result.get)\n",
    "        return majority_device, final_result, avg_confidence"
   ]
  },
  {
   "cell_type": "code",
   "execution_count": null,
   "id": "4f106686",
   "metadata": {},
   "outputs": [],
   "source": [
    "# 加载模型和标准化器\n",
    "device = torch.device(\"cuda\" if torch.cuda.is_available() else \"cpu\")\n",
    "num_features = 1024  # 与训练时相同\n",
    "num_classes = 4  # 四种已知设备\n",
    "model = create_model(num_features, num_classes).to(device)\n",
    "model.load_state_dict(torch.load('./models/complex_cnn_model.pth'))\n",
    "scalers = torch.load('./models/scalers.pth')"
   ]
  },
  {
   "cell_type": "code",
   "execution_count": null,
   "id": "d368c8ce",
   "metadata": {},
   "outputs": [],
   "source": [
    "# 使用模型预测未知设备\n",
    "unknown_file = \"../dataset/raw data/bladerf/bladerf.iq\"\n",
    "device_type, class_counts, confidence = predict_device_with_unknown_detection(\n",
    "    model, unknown_file, scalers, device, confidence_threshold=0.7)\n",
    "\n",
    "print(f\"预测的设备类型: {device_type}\")\n",
    "print(f\"各类别的预测数量: {class_counts}\")\n",
    "print(f\"平均置信度: {confidence:.4f}\")\n",
    "\n",
    "# 如果是已知设备，可以进一步分析\n",
    "if device_type != \"未知设备\":\n",
    "    print(f\"这是一个已知设备: {device_type}\")\n",
    "else:\n",
    "    print(\"这可能是一个训练数据中未包含的设备！\")"
   ]
  }
 ],
 "metadata": {
  "language_info": {
   "name": "python"
  }
 },
 "nbformat": 4,
 "nbformat_minor": 5
}
