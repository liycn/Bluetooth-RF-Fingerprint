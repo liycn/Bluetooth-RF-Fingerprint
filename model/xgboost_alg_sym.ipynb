{
 "cells": [
  {
   "cell_type": "code",
   "execution_count": null,
   "metadata": {},
   "outputs": [],
   "source": [
    "import pandas as pd\n",
    "import numpy as np\n",
    "from sklearn.utils import shuffle\n",
    "from sklearn.preprocessing import StandardScaler\n",
    "from sklearn.metrics import accuracy_score\n",
    "from sklearn.model_selection import train_test_split, cross_val_score, KFold\n",
    "from sklearn.ensemble import RandomForestClassifier, AdaBoostClassifier, GradientBoostingClassifier\n",
    "from sklearn.naive_bayes import GaussianNB\n",
    "from sklearn.neighbors import KNeighborsClassifier\n",
    "from sklearn.tree import DecisionTreeClassifier\n",
    "from sklearn.svm import SVC\n",
    "import xgboost as xgb\n",
    "import catboost as cb\n",
    "import lightgbm as lgb\n",
    "import matplotlib.pyplot as plt"
   ]
  },
  {
   "cell_type": "code",
   "execution_count": 2,
   "metadata": {},
   "outputs": [],
   "source": [
    "# 定义文件序号列表\n",
    "sizes = [128, 256, 512, 1024, 2048, 4096]\n",
    "snr_list = [-10, -5, 0, 5, 10, 15, 20, 25, 30, 35, 40, 45, 50]\n",
    "# 初始化字典存储每个算法的准确度\n",
    "accuracies = {alg: [] for alg in ['XGBoost', 'LightGBM', 'CatBoost', 'GBDT', 'RF', 'DT', 'SVM', 'Naive Bayes', 'KNN']}\n",
    "# 定义每个算法的模型实例\n",
    "models = {\n",
    "    'XGBoost': xgb.XGBClassifier(eval_metric='logloss'),\n",
    "    'LightGBM': lgb.LGBMClassifier(verbose=0, force_row_wise=True),\n",
    "    'CatBoost': cb.CatBoostClassifier(verbose=0),\n",
    "    'GBDT': GradientBoostingClassifier(),\n",
    "    'RF': RandomForestClassifier(),\n",
    "    'DT': DecisionTreeClassifier(),\n",
    "    'SVM': SVC(kernel=\"linear\", decision_function_shape=\"ovo\", max_iter=100000),\n",
    "    'Naive Bayes': GaussianNB(),\n",
    "    'KNN': KNeighborsClassifier(n_neighbors=5, weights='distance', algorithm='kd_tree', leaf_size=10, p=1, n_jobs=-1)\n",
    "}\n",
    "# 定义标识点\n",
    "markers = {\n",
    "    'XGBoost': 'o',  # 圆圈\n",
    "    'LightGBM': 'D',  # 菱形\n",
    "    'CatBoost': 's',  # 方块\n",
    "    'GBDT': 'p',  # 五角星\n",
    "    'RF': 'v',  # 下三角\n",
    "    'DT': '*',\n",
    "    'SVM': '>',  # 右三角\n",
    "    'Naive Bayes': '<',  # 左三角\n",
    "    'KNN': '^'  # 上三角\n",
    "}\n",
    "file_path_train = []\n",
    "file_path_test  = []\n",
    "# 循环遍历每个文件序号，并加载相应的 CSV 文件\n",
    "for size in sizes:\n",
    "    file_path_train.append(f'../preprocessed/combined_features_{size}.csv')\n",
    "    file_path_test.append(f'../preprocessed/combined_features_{size}_test.csv')"
   ]
  },
  {
   "cell_type": "code",
   "execution_count": 3,
   "metadata": {},
   "outputs": [],
   "source": [
    "# 初始化字典存储X_train和y_train数据集\n",
    "X_trains = {}\n",
    "y_trains = {}\n",
    "X_tests = {}\n",
    "y_tests = {}\n",
    "# 循环处理每个文件\n",
    "for size, file_path in zip(sizes, file_path_train):\n",
    "    # 读取数据集\n",
    "    df = pd.read_csv(file_path)\n",
    "    # 打乱数据集\n",
    "    df = shuffle(df, random_state=42)\n",
    "    # 分离标签和特征\n",
    "    y_trains[size] = df['label']\n",
    "    X_trains[size] = df.drop('label', axis=1)\n",
    "for size, file_path in zip(sizes, file_path_test):\n",
    "    # 读取数据集\n",
    "    df = pd.read_csv(file_path)\n",
    "    # 打乱数据集\n",
    "    df = shuffle(df, random_state=42)\n",
    "    # 分离标签和特征\n",
    "    y_tests[size] = df['label']\n",
    "    X_tests[size] = df.drop('label', axis=1)"
   ]
  },
  {
   "cell_type": "code",
   "execution_count": null,
   "metadata": {},
   "outputs": [],
   "source": [
    "# 训练模型并评估准确度\n",
    "for size in sizes:\n",
    "    X_train = X_trains[size]\n",
    "    X_test  = X_tests [size]\n",
    "    y_train = y_trains[size]\n",
    "    y_test  = y_tests [size]\n",
    "    print(f\"Results for data size {size}:\")\n",
    "    for alg, model in models.items():\n",
    "        model.fit(X_train, y_train)\n",
    "        y_pred = model.predict(X_test)\n",
    "        accuracy = accuracy_score(y_test, y_pred)\n",
    "        accuracies[alg].append(accuracy)\n",
    "        print(f\"{alg}: Accuracy = {accuracy:.4f}\")\n",
    "# accuracies.sort()\n",
    "\n",
    "# 绘制不同算法在不同数据集大小上的准确率\n",
    "# plt.figure(figsize=(30, 15))\n",
    "# for alg, acc_list in accuracies.items():\n",
    "#     plt.plot(sizes, acc_list, label=alg, marker=markers[alg])\n",
    "# plt.title('Comparison of Different ML Algorithms')\n",
    "# plt.xlabel('Training Set Size')\n",
    "# plt.ylabel('Classification Accuracy')\n",
    "# plt.legend()\n",
    "# plt.grid(True)\n",
    "# plt.show()"
   ]
  },
  {
   "cell_type": "code",
   "execution_count": null,
   "metadata": {},
   "outputs": [],
   "source": [
    "# plt.figure(figsize=(30, 15))\n",
    "for alg, acc_list in accuracies.items():\n",
    "    plt.plot(sizes, acc_list, label=alg, marker=markers[alg])\n",
    "# plt.title('Comparison of Different ML Algorithms')\n",
    "plt.xlabel('样本数量/个', fontproperties=\"SimSun\",size=14)\n",
    "plt.ylabel('分类准确率', fontproperties=\"SimSun\",size=14)\n",
    "plt.legend()\n",
    "plt.grid(True)\n",
    "plt.savefig('./img/sym.png',dpi=600, bbox_inches='tight')\n",
    "plt.show()"
   ]
  },
  {
   "cell_type": "code",
   "execution_count": null,
   "metadata": {},
   "outputs": [],
   "source": [
    "# # 打印结果\n",
    "# for size in sorted(results):\n",
    "#     print(f\"\\nResults for data size {size}:\")\n",
    "#     for alg in sorted(results[size]):\n",
    "#         print(f\"  {alg}: Accuracy = {results[size][alg]:.4f}\")\n",
    "\n",
    "for alg, acc in accuracies.items():\n",
    "    print(alg, str(acc))"
   ]
  },
  {
   "cell_type": "code",
   "execution_count": 7,
   "metadata": {},
   "outputs": [],
   "source": [
    "acc = {alg: [] for alg in ['XGBoost', 'LightGBM', 'CatBoost', 'GBDT', 'RF', 'DT', 'SVM', 'Naive Bayes', 'KNN']}\n",
    "acc['XGBoost']=[0.95575, 0.96375, 0.977, 0.99025, 0.997, 0.99925]\n",
    "acc['LightGBM']=[0.95225, 0.961, 0.97575, 0.9915, 0.996, 0.9995]\n",
    "acc['CatBoost']=[0.94925, 0.9645, 0.97675, 0.99075, 0.99575, 0.99925]\n",
    "acc['GBDT']=[0.93275, 0.94975, 0.9655, 0.98725, 0.99575, 0.9995]\n",
    "acc['RF']=[0.9505, 0.95925, 0.972, 0.9895, 0.9955, 0.99925]\n",
    "acc['DT']=[0.92125, 0.9195, 0.93825, 0.971, 0.97575, 0.99375]\n",
    "acc['SVM']=[0.5275, 0.61075, 0.7355, 0.8725, 0.8935, 0.905]\n",
    "acc['Naive Bayes']=[0.649, 0.716, 0.77525, 0.79525, 0.8155, 0.857]\n",
    "acc['KNN']=[0.51075, 0.5385, 0.64825, 0.725, 0.80825, 0.842]\n"
   ]
  },
  {
   "cell_type": "code",
   "execution_count": null,
   "metadata": {},
   "outputs": [],
   "source": [
    "for alg, acc_list in acc.items():\n",
    "    plt.plot(sizes, acc_list, label=alg, marker=markers[alg])\n",
    "plt.xlabel('样本数量/个', fontproperties=\"SimSun\",size=14)\n",
    "plt.ylabel('分类准确率', fontproperties=\"SimSun\",size=14)\n",
    "plt.legend()\n",
    "plt.grid(True)\n",
    "plt.savefig('./img/sym_new.png',dpi=600, bbox_inches='tight')\n",
    "plt.show()"
   ]
  }
 ],
 "metadata": {
  "kernelspec": {
   "display_name": "bt",
   "language": "python",
   "name": "python3"
  },
  "language_info": {
   "codemirror_mode": {
    "name": "ipython",
    "version": 3
   },
   "file_extension": ".py",
   "mimetype": "text/x-python",
   "name": "python",
   "nbconvert_exporter": "python",
   "pygments_lexer": "ipython3",
   "version": "3.10.16"
  },
  "orig_nbformat": 4
 },
 "nbformat": 4,
 "nbformat_minor": 2
}
