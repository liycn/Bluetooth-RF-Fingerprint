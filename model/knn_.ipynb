{
 "cells": [
  {
   "cell_type": "code",
   "execution_count": 1,
   "metadata": {},
   "outputs": [],
   "source": [
    "import numpy as np\n",
    "import pandas as pd\n",
    "import matplotlib.pyplot as plt\n",
    "import seaborn as sns\n",
    "import warnings, os, sys, shutil\n",
    "from typing import Tuple\n",
    "from utility import *\n",
    "from sklearn.utils import shuffle\n",
    "from sklearn.model_selection import train_test_split\n",
    "from sklearn.metrics import roc_auc_score, accuracy_score, log_loss\n",
    "from sklearn.neighbors import KNeighborsClassifier\n",
    "\n",
    "warnings.filterwarnings(\"ignore\")"
   ]
  },
  {
   "cell_type": "code",
   "execution_count": 6,
   "metadata": {},
   "outputs": [],
   "source": [
    "train = pd.read_csv('../preprocessed/combined_features_256.csv')\n",
    "test  = pd.read_csv('../preprocessed/combined_features_256_test.csv')\n",
    "train = shuffle(train, random_state=42)\n",
    "y_train = train['label']\n",
    "x_train = train.drop('label', axis=1)\n",
    "Y_test = test['label']\n",
    "X_test = test.drop('label', axis=1)"
   ]
  },
  {
   "cell_type": "code",
   "execution_count": 7,
   "metadata": {},
   "outputs": [],
   "source": [
    "import optuna\n",
    "from sklearn.model_selection import cross_val_score\n",
    "from sklearn.metrics import accuracy_score\n",
    "from optuna.samplers import TPESampler"
   ]
  },
  {
   "cell_type": "code",
   "execution_count": null,
   "metadata": {},
   "outputs": [],
   "source": [
    "# 定义优化的目标函数\n",
    "def objective(trial):\n",
    "    # 提议参数\n",
    "    params = {\n",
    "        'n_neighbors': trial.suggest_int(\"n_neighbors\", 1, 11),\n",
    "        'weights': trial.suggest_categorical(\"weights\", [\"uniform\", \"distance\"]),\n",
    "        'p': trial.suggest_int(\"p\", 1, 7),\n",
    "        'algorithm': trial.suggest_categorical(\"algorithm\", [\"ball_tree\", \"kd_tree\"]),\n",
    "        'leaf_size': trial.suggest_int(\"leaf_size\", 1, 30)\n",
    "    }\n",
    "    # 创建 SVM 模型\n",
    "    model = KNeighborsClassifier(**params)\n",
    "    \n",
    "    # 进行 k-fold 交叉验证\n",
    "    scores = cross_val_score(model, x_train, y_train, cv=5)  # 使用5折交叉验证\n",
    "    accuracy = np.mean(scores)\n",
    "    return accuracy\n",
    "\n",
    "if __name__ == \"__main__\":\n",
    "    sampler = TPESampler(seed=42)\n",
    "    pruner = optuna.pruners.MedianPruner(n_warmup_steps=10)\n",
    "    study = optuna.create_study(pruner=pruner, direction=\"maximize\", sampler=sampler)\n",
    "    study.optimize(objective, n_trials=50)\n",
    "\n",
    "    print(\"Number of finished trials: {}\".format(len(study.trials)))\n",
    "    print(\"Best trial:\")\n",
    "    trial = study.best_trial\n",
    "    print(\"  Value: {}\".format(trial.value))\n",
    "    print(\"  Params: \")\n",
    "    for key, value in trial.params.items():\n",
    "        print(\"    {}: {}\".format(key, value))"
   ]
  },
  {
   "cell_type": "code",
   "execution_count": null,
   "metadata": {},
   "outputs": [],
   "source": [
    "# 创建一个 Optuna 优化器的实例\n",
    "study = optuna.create_study(direction='maximize')\n",
    "study.optimize(objective, n_trials=50)\n",
    "\n",
    "# 打印最优的参数和在训练集上的性能\n",
    "print('Best trial:')\n",
    "trial = study.best_trial\n",
    "print(f'  Average CV Accuracy: {trial.value:.3f}')\n",
    "print('  Params: ')\n",
    "for key, value in trial.params.items():\n",
    "    print(f'    {key}: {value}')\n",
    "\n"
   ]
  },
  {
   "cell_type": "code",
   "execution_count": null,
   "metadata": {},
   "outputs": [],
   "source": [
    "# 使用最优参数在测试集上评估模型\n",
    "best_model = SVC(**trial.params, random_state=42)\n",
    "best_model.fit(x_train, y_train)\n",
    "y_pred = best_model.predict(X_test)\n",
    "test_accuracy = accuracy_score(Y_test, y_pred)\n",
    "print(f'Accuracy on Test set: {test_accuracy:.3f}')"
   ]
  }
 ],
 "metadata": {
  "kernelspec": {
   "display_name": "bt",
   "language": "python",
   "name": "python3"
  },
  "language_info": {
   "codemirror_mode": {
    "name": "ipython",
    "version": 3
   },
   "file_extension": ".py",
   "mimetype": "text/x-python",
   "name": "python",
   "nbconvert_exporter": "python",
   "pygments_lexer": "ipython3",
   "version": "3.10.16"
  },
  "orig_nbformat": 4
 },
 "nbformat": 4,
 "nbformat_minor": 2
}
