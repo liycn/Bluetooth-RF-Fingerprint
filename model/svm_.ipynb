{
 "cells": [
  {
   "cell_type": "code",
   "execution_count": 1,
   "metadata": {},
   "outputs": [],
   "source": [
    "import numpy as np\n",
    "import pandas as pd\n",
    "import matplotlib.pyplot as plt\n",
    "import seaborn as sns\n",
    "import warnings, os, sys, shutil\n",
    "import xgboost as xgb\n",
    "import lightgbm as lgb\n",
    "import optuna\n",
    "from catboost import CatBoost, CatBoostClassifier\n",
    "from typing import Tuple\n",
    "from utility import *\n",
    "from sklearn.utils import shuffle\n",
    "from sklearn.model_selection import train_test_split\n",
    "from sklearn.metrics import roc_auc_score, accuracy_score, log_loss\n",
    "\n",
    "warnings.filterwarnings(\"ignore\")"
   ]
  },
  {
   "cell_type": "code",
   "execution_count": 2,
   "metadata": {},
   "outputs": [],
   "source": [
    "train = pd.read_csv('../preprocessed/combined_features_256.csv')\n",
    "test  = pd.read_csv('../preprocessed/combined_features_256_test.csv')\n",
    "train = shuffle(train, random_state=42)\n",
    "y_train = train['label']\n",
    "x_train = train.drop('label', axis=1)\n",
    "Y_test = test['label']\n",
    "X_test = test.drop('label', axis=1)"
   ]
  },
  {
   "cell_type": "code",
   "execution_count": 3,
   "metadata": {},
   "outputs": [],
   "source": [
    "import optuna, tune\n",
    "from sklearn.svm import SVC\n",
    "from sklearn.model_selection import cross_val_score\n",
    "from sklearn.metrics import accuracy_score\n",
    "from optuna.samplers import TPESampler"
   ]
  },
  {
   "cell_type": "code",
   "execution_count": 4,
   "metadata": {},
   "outputs": [
    {
     "name": "stderr",
     "output_type": "stream",
     "text": [
      "[I 2024-04-29 13:13:31,536] A new study created in memory with name: no-name-32e6707f-62e8-4b8c-a123-69b5ba2f6fb0\n",
      "[I 2024-04-29 13:14:24,833] Trial 0 finished with value: 0.3168125 and parameters: {'kernel': 'poly', 'C': 94.00905432049124, 'degree': 1}. Best is trial 0 with value: 0.3168125.\n",
      "[I 2024-04-29 13:15:53,073] Trial 1 finished with value: 0.3549375 and parameters: {'kernel': 'rbf', 'C': 105.26893636712298, 'gamma': 'scale'}. Best is trial 1 with value: 0.3549375.\n",
      "[I 2024-04-29 13:16:32,597] Trial 2 finished with value: 0.28581249999999997 and parameters: {'kernel': 'linear', 'C': 4.3301141381717194e-07}. Best is trial 1 with value: 0.3549375.\n",
      "[I 2024-04-29 13:17:44,193] Trial 3 finished with value: 0.32156250000000003 and parameters: {'kernel': 'rbf', 'C': 0.043541197871659006, 'gamma': 'auto'}. Best is trial 1 with value: 0.3549375.\n",
      "[I 2024-04-29 13:18:59,665] Trial 4 finished with value: 0.29137500000000005 and parameters: {'kernel': 'rbf', 'C': 0.13225121917959448, 'gamma': 'scale'}. Best is trial 1 with value: 0.3549375.\n",
      "[I 2024-04-29 13:20:07,636] Trial 5 finished with value: 0.3304375 and parameters: {'kernel': 'poly', 'C': 141.5458165193241, 'degree': 1}. Best is trial 1 with value: 0.3549375.\n",
      "[I 2024-04-29 13:21:20,247] Trial 6 finished with value: 0.5236875000000001 and parameters: {'kernel': 'rbf', 'C': 1472132.7090873513, 'gamma': 'scale'}. Best is trial 6 with value: 0.5236875000000001.\n",
      "[I 2024-04-29 13:22:32,053] Trial 7 finished with value: 0.56325 and parameters: {'kernel': 'linear', 'C': 0.8008260691725719}. Best is trial 7 with value: 0.56325.\n",
      "[I 2024-04-29 13:23:51,541] Trial 8 finished with value: 0.47375000000000006 and parameters: {'kernel': 'poly', 'C': 1780.1052747520325, 'degree': 2}. Best is trial 7 with value: 0.56325.\n",
      "[I 2024-04-29 13:24:59,026] Trial 9 finished with value: 0.3566875 and parameters: {'kernel': 'poly', 'C': 2464294202.3553925, 'degree': 4}. Best is trial 7 with value: 0.56325.\n",
      "[I 2024-04-29 13:25:35,271] Trial 10 finished with value: 0.28581249999999997 and parameters: {'kernel': 'linear', 'C': 1.3180857326256057e-10}. Best is trial 7 with value: 0.56325.\n",
      "[I 2024-04-29 13:26:22,928] Trial 11 finished with value: 0.5666875 and parameters: {'kernel': 'linear', 'C': 25696430.26147751}. Best is trial 11 with value: 0.5666875.\n",
      "[I 2024-04-29 13:27:08,609] Trial 12 finished with value: 0.5384374999999999 and parameters: {'kernel': 'linear', 'C': 142329821.81335542}. Best is trial 11 with value: 0.5666875.\n",
      "[I 2024-04-29 13:27:55,386] Trial 13 finished with value: 0.5040625000000001 and parameters: {'kernel': 'linear', 'C': 1779533.7493077964}. Best is trial 11 with value: 0.5666875.\n",
      "[I 2024-04-29 13:28:33,739] Trial 14 finished with value: 0.29799999999999993 and parameters: {'kernel': 'linear', 'C': 0.0039091728010261706}. Best is trial 11 with value: 0.5666875.\n",
      "[I 2024-04-29 13:29:18,130] Trial 15 finished with value: 0.5189375 and parameters: {'kernel': 'linear', 'C': 88691.85659172686}. Best is trial 11 with value: 0.5666875.\n",
      "[I 2024-04-29 13:30:04,623] Trial 16 finished with value: 0.51525 and parameters: {'kernel': 'linear', 'C': 975343994.3013259}. Best is trial 11 with value: 0.5666875.\n",
      "[I 2024-04-29 13:30:40,764] Trial 17 finished with value: 0.2980625 and parameters: {'kernel': 'linear', 'C': 0.000232126649299967}. Best is trial 11 with value: 0.5666875.\n",
      "[I 2024-04-29 13:31:26,911] Trial 18 finished with value: 0.49793750000000003 and parameters: {'kernel': 'linear', 'C': 20881.09383212254}. Best is trial 11 with value: 0.5666875.\n",
      "[I 2024-04-29 13:32:38,059] Trial 19 finished with value: 0.6271875 and parameters: {'kernel': 'linear', 'C': 2.307721059402425}. Best is trial 19 with value: 0.6271875.\n",
      "[I 2024-04-29 13:33:22,722] Trial 20 finished with value: 0.49749999999999994 and parameters: {'kernel': 'linear', 'C': 18247616.398983236}. Best is trial 19 with value: 0.6271875.\n",
      "[I 2024-04-29 13:34:34,155] Trial 21 finished with value: 0.650875 and parameters: {'kernel': 'linear', 'C': 3.6441433315483853}. Best is trial 21 with value: 0.650875.\n",
      "[I 2024-04-29 13:35:40,956] Trial 22 finished with value: 0.548625 and parameters: {'kernel': 'linear', 'C': 76.60197313836392}. Best is trial 21 with value: 0.650875.\n",
      "[I 2024-04-29 13:36:27,113] Trial 23 finished with value: 0.5279999999999999 and parameters: {'kernel': 'linear', 'C': 8323972465.312853}. Best is trial 21 with value: 0.650875.\n",
      "[I 2024-04-29 13:37:46,330] Trial 24 finished with value: 0.619125 and parameters: {'kernel': 'linear', 'C': 1.9925456517449651}. Best is trial 21 with value: 0.650875.\n",
      "[I 2024-04-29 13:39:03,431] Trial 25 finished with value: 0.6183125 and parameters: {'kernel': 'linear', 'C': 8.402824104302585}. Best is trial 21 with value: 0.650875.\n",
      "[I 2024-04-29 13:40:21,495] Trial 26 finished with value: 0.6239375 and parameters: {'kernel': 'linear', 'C': 1.5550258841837195}. Best is trial 21 with value: 0.650875.\n",
      "[I 2024-04-29 13:41:00,885] Trial 27 finished with value: 0.2978125 and parameters: {'kernel': 'linear', 'C': 0.0035455185183765952}. Best is trial 21 with value: 0.650875.\n",
      "[I 2024-04-29 13:42:12,191] Trial 28 finished with value: 0.7560625 and parameters: {'kernel': 'rbf', 'C': 2052.386562654259, 'gamma': 'auto'}. Best is trial 28 with value: 0.7560625.\n",
      "[I 2024-04-29 13:43:27,477] Trial 29 finished with value: 0.7631874999999999 and parameters: {'kernel': 'rbf', 'C': 10447.584597229581, 'gamma': 'auto'}. Best is trial 29 with value: 0.7631874999999999.\n",
      "[I 2024-04-29 13:44:46,465] Trial 30 finished with value: 0.7705 and parameters: {'kernel': 'rbf', 'C': 5545.043434006406, 'gamma': 'auto'}. Best is trial 30 with value: 0.7705.\n",
      "[I 2024-04-29 13:46:02,966] Trial 31 finished with value: 0.74925 and parameters: {'kernel': 'rbf', 'C': 10958.186408298026, 'gamma': 'auto'}. Best is trial 30 with value: 0.7705.\n",
      "[I 2024-04-29 13:47:18,705] Trial 32 finished with value: 0.765625 and parameters: {'kernel': 'rbf', 'C': 2828.139406731858, 'gamma': 'auto'}. Best is trial 30 with value: 0.7705.\n",
      "[I 2024-04-29 13:48:33,398] Trial 33 finished with value: 0.7645625 and parameters: {'kernel': 'rbf', 'C': 2575.7449207958484, 'gamma': 'auto'}. Best is trial 30 with value: 0.7705.\n",
      "[I 2024-04-29 13:49:48,448] Trial 34 finished with value: 0.6505624999999999 and parameters: {'kernel': 'rbf', 'C': 143621.04352998885, 'gamma': 'auto'}. Best is trial 30 with value: 0.7705.\n",
      "[I 2024-04-29 13:50:57,980] Trial 35 finished with value: 0.73375 and parameters: {'kernel': 'rbf', 'C': 578.6759738172643, 'gamma': 'auto'}. Best is trial 30 with value: 0.7705.\n",
      "[I 2024-04-29 13:52:06,898] Trial 36 finished with value: 0.71 and parameters: {'kernel': 'rbf', 'C': 111.59053981141325, 'gamma': 'auto'}. Best is trial 30 with value: 0.7705.\n",
      "[I 2024-04-29 13:53:25,849] Trial 37 finished with value: 0.729 and parameters: {'kernel': 'rbf', 'C': 11091.089240056126, 'gamma': 'auto'}. Best is trial 30 with value: 0.7705.\n",
      "[I 2024-04-29 13:54:44,614] Trial 38 finished with value: 0.6889375 and parameters: {'kernel': 'rbf', 'C': 166221.86968070522, 'gamma': 'auto'}. Best is trial 30 with value: 0.7705.\n",
      "[I 2024-04-29 13:55:58,696] Trial 39 finished with value: 0.650625 and parameters: {'kernel': 'rbf', 'C': 1264139.733060156, 'gamma': 'auto'}. Best is trial 30 with value: 0.7705.\n",
      "[I 2024-04-29 13:57:11,281] Trial 40 finished with value: 0.735125 and parameters: {'kernel': 'rbf', 'C': 619.6644802927188, 'gamma': 'auto'}. Best is trial 30 with value: 0.7705.\n",
      "[I 2024-04-29 13:58:29,310] Trial 41 finished with value: 0.7633125 and parameters: {'kernel': 'rbf', 'C': 2648.837317972792, 'gamma': 'auto'}. Best is trial 30 with value: 0.7705.\n",
      "[I 2024-04-29 13:59:37,152] Trial 42 finished with value: 0.6209374999999999 and parameters: {'kernel': 'rbf', 'C': 25.160662501184973, 'gamma': 'auto'}. Best is trial 30 with value: 0.7705.\n",
      "[I 2024-04-29 14:00:53,150] Trial 43 finished with value: 0.7528750000000001 and parameters: {'kernel': 'rbf', 'C': 1676.521743094983, 'gamma': 'auto'}. Best is trial 30 with value: 0.7705.\n",
      "[I 2024-04-29 14:02:07,115] Trial 44 finished with value: 0.7186874999999999 and parameters: {'kernel': 'rbf', 'C': 178.3855669640844, 'gamma': 'auto'}. Best is trial 30 with value: 0.7705.\n",
      "[I 2024-04-29 14:04:04,237] Trial 45 finished with value: 0.45543750000000005 and parameters: {'kernel': 'poly', 'C': 5428.297379969613, 'degree': 5}. Best is trial 30 with value: 0.7705.\n",
      "[I 2024-04-29 14:05:16,475] Trial 46 finished with value: 0.7004999999999999 and parameters: {'kernel': 'rbf', 'C': 92985.46892527878, 'gamma': 'auto'}. Best is trial 30 with value: 0.7705.\n",
      "[I 2024-04-29 14:06:19,732] Trial 47 finished with value: 0.6304375 and parameters: {'kernel': 'rbf', 'C': 28.1290413301899, 'gamma': 'auto'}. Best is trial 30 with value: 0.7705.\n",
      "[I 2024-04-29 14:07:29,978] Trial 48 finished with value: 0.7409999999999999 and parameters: {'kernel': 'rbf', 'C': 977.2190711168939, 'gamma': 'auto'}. Best is trial 30 with value: 0.7705.\n",
      "[I 2024-04-29 14:09:25,324] Trial 49 finished with value: 0.44006249999999997 and parameters: {'kernel': 'poly', 'C': 18518.508223004075, 'degree': 3}. Best is trial 30 with value: 0.7705.\n"
     ]
    },
    {
     "name": "stdout",
     "output_type": "stream",
     "text": [
      "Number of finished trials: 50\n",
      "Best trial:\n",
      "  Value: 0.7705\n",
      "  Params: \n",
      "    kernel: rbf\n",
      "    C: 5545.043434006406\n",
      "    gamma: auto\n"
     ]
    }
   ],
   "source": [
    "# 定义优化的目标函数\n",
    "def objective(trial):\n",
    "    # 提议参数\n",
    "    kernel = trial.suggest_categorical('kernel', ['linear', 'poly', 'rbf'])\n",
    "    C = trial.suggest_loguniform('C', 1e-10, 1e10)\n",
    "    if kernel == 'poly':\n",
    "        degree = trial.suggest_int('degree', 1, 5)\n",
    "    else:\n",
    "        degree = 3  # 默认值\n",
    "    if kernel == 'rbf':\n",
    "        gamma = trial.suggest_categorical('gamma', ['scale', 'auto'])\n",
    "    else:\n",
    "        gamma = 'scale'  # 默认值\n",
    "    # 创建 SVM 模型\n",
    "    model = SVC(kernel=kernel, C=C, degree=degree, gamma=gamma, random_state=42, max_iter=100000)\n",
    "    \n",
    "    # 进行 k-fold 交叉验证\n",
    "    scores = cross_val_score(model, x_train, y_train, cv=5)  # 使用5折交叉验证\n",
    "    accuracy = np.mean(scores)\n",
    "    return accuracy\n",
    "\n",
    "if __name__ == \"__main__\":\n",
    "    sampler = TPESampler(seed=42)\n",
    "    pruner = optuna.pruners.MedianPruner(n_warmup_steps=10)\n",
    "    study = optuna.create_study(pruner=pruner, direction=\"maximize\", sampler=sampler)\n",
    "    study.optimize(objective, n_trials=50)\n",
    "\n",
    "    print(\"Number of finished trials: {}\".format(len(study.trials)))\n",
    "    print(\"Best trial:\")\n",
    "    trial = study.best_trial\n",
    "    print(\"  Value: {}\".format(trial.value))\n",
    "    print(\"  Params: \")\n",
    "    for key, value in trial.params.items():\n",
    "        print(\"    {}: {}\".format(key, value))"
   ]
  },
  {
   "cell_type": "code",
   "execution_count": 6,
   "metadata": {},
   "outputs": [
    {
     "name": "stderr",
     "output_type": "stream",
     "text": [
      "[I 2024-04-28 15:16:34,812] A new study created in memory with name: no-name-51abfaf9-3ec2-4906-9e24-5fe00a5699fd\n"
     ]
    }
   ],
   "source": [
    "# 创建一个 Optuna 优化器的实例\n",
    "study = optuna.create_study(direction='maximize')\n",
    "study.optimize(objective, n_trials=50)\n",
    "\n",
    "# 打印最优的参数和在训练集上的性能\n",
    "print('Best trial:')\n",
    "trial = study.best_trial\n",
    "print(f'  Average CV Accuracy: {trial.value:.3f}')\n",
    "print('  Params: ')\n",
    "for key, value in trial.params.items():\n",
    "    print(f'    {key}: {value}')\n",
    "\n"
   ]
  },
  {
   "cell_type": "code",
   "execution_count": null,
   "metadata": {},
   "outputs": [],
   "source": [
    "# 使用最优参数在测试集上评估模型\n",
    "best_model = SVC(**trial.params, random_state=42)\n",
    "best_model.fit(x_train, y_train)\n",
    "y_pred = best_model.predict(X_test)\n",
    "test_accuracy = accuracy_score(Y_test, y_pred)\n",
    "print(f'Accuracy on Test set: {test_accuracy:.3f}')"
   ]
  }
 ],
 "metadata": {
  "kernelspec": {
   "display_name": "Python 3.8.2 64-bit",
   "language": "python",
   "name": "python3"
  },
  "language_info": {
   "codemirror_mode": {
    "name": "ipython",
    "version": 3
   },
   "file_extension": ".py",
   "mimetype": "text/x-python",
   "name": "python",
   "nbconvert_exporter": "python",
   "pygments_lexer": "ipython3",
   "version": "3.8.2"
  },
  "orig_nbformat": 4,
  "vscode": {
   "interpreter": {
    "hash": "6eaea64310228e9f754520128e4f9a6259bb26f5c3839fa5dce3903f5873b011"
   }
  }
 },
 "nbformat": 4,
 "nbformat_minor": 2
}
