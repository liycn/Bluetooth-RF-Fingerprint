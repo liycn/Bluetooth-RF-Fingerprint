{
 "cells": [
  {
   "cell_type": "code",
   "execution_count": 3,
   "metadata": {},
   "outputs": [
    {
     "name": "stdout",
     "output_type": "stream",
     "text": [
      "The autoreload extension is already loaded. To reload it, use:\n",
      "  %reload_ext autoreload\n"
     ]
    }
   ],
   "source": [
    "%load_ext autoreload\n",
    "%autoreload 2"
   ]
  },
  {
   "cell_type": "code",
   "execution_count": 4,
   "metadata": {},
   "outputs": [],
   "source": [
    "import numpy as np\n",
    "import pandas as pd\n",
    "from utility import *\n",
    "device_name = ['bladerf', 'hackrf0', 'hackrf1', 'limesdr']\n",
    "snr_list = [-10, -5, 0, 5, 10, 15, 20, 25, 30, 35, 40, 45, 50]\n",
    "sym_list = [16, 32, 64, 128, 256, 512, 1024, 2048, 4096]\n",
    "labels = [0, 1, 2, 3]"
   ]
  },
  {
   "cell_type": "code",
   "execution_count": 5,
   "metadata": {},
   "outputs": [
    {
     "name": "stdout",
     "output_type": "stream",
     "text": [
      "(1000, 16)\n"
     ]
    },
    {
     "name": "stderr",
     "output_type": "stream",
     "text": [
      "d:\\Anaconda3\\envs\\bt\\lib\\site-packages\\sklearn\\base.py:1389: ConvergenceWarning: Number of distinct clusters (3) found smaller than n_clusters (4). Possibly due to duplicate points in X.\n",
      "  return fit_method(estimator, *args, **kwargs)\n",
      "d:\\Anaconda3\\envs\\bt\\lib\\site-packages\\sklearn\\base.py:1389: ConvergenceWarning: Number of distinct clusters (3) found smaller than n_clusters (4). Possibly due to duplicate points in X.\n",
      "  return fit_method(estimator, *args, **kwargs)\n",
      "d:\\Anaconda3\\envs\\bt\\lib\\site-packages\\sklearn\\base.py:1389: ConvergenceWarning: Number of distinct clusters (3) found smaller than n_clusters (4). Possibly due to duplicate points in X.\n",
      "  return fit_method(estimator, *args, **kwargs)\n",
      "d:\\Anaconda3\\envs\\bt\\lib\\site-packages\\sklearn\\base.py:1389: ConvergenceWarning: Number of distinct clusters (3) found smaller than n_clusters (4). Possibly due to duplicate points in X.\n",
      "  return fit_method(estimator, *args, **kwargs)\n"
     ]
    },
    {
     "name": "stdout",
     "output_type": "stream",
     "text": [
      "(1000, 32)\n",
      "(1000, 64)\n",
      "(1000, 128)\n",
      "(1000, 256)\n",
      "(1000, 512)\n",
      "(1000, 1024)\n",
      "(1000, 2048)\n",
      "(1000, 4096)\n",
      "(1000, 256)\n",
      "(1000, 256)\n",
      "(1000, 256)\n",
      "(1000, 256)\n",
      "(1000, 256)\n",
      "(1000, 256)\n",
      "(1000, 256)\n",
      "(1000, 256)\n",
      "(1000, 256)\n",
      "(1000, 256)\n",
      "(1000, 256)\n",
      "(1000, 256)\n",
      "(1000, 256)\n",
      "(1000, 16)\n",
      "(1000, 32)\n",
      "(1000, 64)\n",
      "(1000, 128)\n",
      "(1000, 256)\n",
      "(1000, 512)\n",
      "(1000, 1024)\n",
      "(1000, 2048)\n",
      "(1000, 4096)\n",
      "(1000, 256)\n",
      "(1000, 256)\n",
      "(1000, 256)\n",
      "(1000, 256)\n",
      "(1000, 256)\n",
      "(1000, 256)\n",
      "(1000, 256)\n",
      "(1000, 256)\n",
      "(1000, 256)\n",
      "(1000, 256)\n",
      "(1000, 256)\n",
      "(1000, 256)\n",
      "(1000, 256)\n",
      "(1000, 16)\n",
      "(1000, 32)\n",
      "(1000, 64)\n",
      "(1000, 128)\n",
      "(1000, 256)\n",
      "(1000, 512)\n",
      "(1000, 1024)\n",
      "(1000, 2048)\n",
      "(1000, 4096)\n",
      "(1000, 256)\n",
      "(1000, 256)\n",
      "(1000, 256)\n",
      "(1000, 256)\n",
      "(1000, 256)\n",
      "(1000, 256)\n",
      "(1000, 256)\n",
      "(1000, 256)\n",
      "(1000, 256)\n",
      "(1000, 256)\n",
      "(1000, 256)\n",
      "(1000, 256)\n",
      "(1000, 256)\n",
      "(1000, 16)\n"
     ]
    },
    {
     "name": "stderr",
     "output_type": "stream",
     "text": [
      "d:\\Anaconda3\\envs\\bt\\lib\\site-packages\\sklearn\\base.py:1389: ConvergenceWarning: Number of distinct clusters (3) found smaller than n_clusters (4). Possibly due to duplicate points in X.\n",
      "  return fit_method(estimator, *args, **kwargs)\n",
      "d:\\Anaconda3\\envs\\bt\\lib\\site-packages\\sklearn\\base.py:1389: ConvergenceWarning: Number of distinct clusters (3) found smaller than n_clusters (4). Possibly due to duplicate points in X.\n",
      "  return fit_method(estimator, *args, **kwargs)\n"
     ]
    },
    {
     "name": "stdout",
     "output_type": "stream",
     "text": [
      "(1000, 32)\n",
      "(1000, 64)\n",
      "(1000, 128)\n",
      "(1000, 256)\n",
      "(1000, 512)\n",
      "(1000, 1024)\n",
      "(1000, 2048)\n",
      "(1000, 4096)\n",
      "(1000, 256)\n",
      "(1000, 256)\n",
      "(1000, 256)\n",
      "(1000, 256)\n",
      "(1000, 256)\n",
      "(1000, 256)\n",
      "(1000, 256)\n",
      "(1000, 256)\n",
      "(1000, 256)\n",
      "(1000, 256)\n",
      "(1000, 256)\n",
      "(1000, 256)\n",
      "(1000, 256)\n"
     ]
    }
   ],
   "source": [
    "# 计算特征并存储--测试集\n",
    "for j in device_name:\n",
    "    process_iq_data(j, sym_list, 1000, snr_list, flag=\"test\")"
   ]
  },
  {
   "cell_type": "code",
   "execution_count": 6,
   "metadata": {},
   "outputs": [
    {
     "name": "stdout",
     "output_type": "stream",
     "text": [
      "(4000, 16)\n"
     ]
    },
    {
     "name": "stderr",
     "output_type": "stream",
     "text": [
      "d:\\Anaconda3\\envs\\bt\\lib\\site-packages\\sklearn\\base.py:1389: ConvergenceWarning: Number of distinct clusters (3) found smaller than n_clusters (4). Possibly due to duplicate points in X.\n",
      "  return fit_method(estimator, *args, **kwargs)\n",
      "d:\\Anaconda3\\envs\\bt\\lib\\site-packages\\sklearn\\base.py:1389: ConvergenceWarning: Number of distinct clusters (3) found smaller than n_clusters (4). Possibly due to duplicate points in X.\n",
      "  return fit_method(estimator, *args, **kwargs)\n",
      "d:\\Anaconda3\\envs\\bt\\lib\\site-packages\\sklearn\\base.py:1389: ConvergenceWarning: Number of distinct clusters (3) found smaller than n_clusters (4). Possibly due to duplicate points in X.\n",
      "  return fit_method(estimator, *args, **kwargs)\n",
      "d:\\Anaconda3\\envs\\bt\\lib\\site-packages\\sklearn\\base.py:1389: ConvergenceWarning: Number of distinct clusters (3) found smaller than n_clusters (4). Possibly due to duplicate points in X.\n",
      "  return fit_method(estimator, *args, **kwargs)\n",
      "d:\\Anaconda3\\envs\\bt\\lib\\site-packages\\sklearn\\base.py:1389: ConvergenceWarning: Number of distinct clusters (3) found smaller than n_clusters (4). Possibly due to duplicate points in X.\n",
      "  return fit_method(estimator, *args, **kwargs)\n",
      "d:\\Anaconda3\\envs\\bt\\lib\\site-packages\\sklearn\\base.py:1389: ConvergenceWarning: Number of distinct clusters (3) found smaller than n_clusters (4). Possibly due to duplicate points in X.\n",
      "  return fit_method(estimator, *args, **kwargs)\n",
      "d:\\Anaconda3\\envs\\bt\\lib\\site-packages\\sklearn\\base.py:1389: ConvergenceWarning: Number of distinct clusters (3) found smaller than n_clusters (4). Possibly due to duplicate points in X.\n",
      "  return fit_method(estimator, *args, **kwargs)\n",
      "d:\\Anaconda3\\envs\\bt\\lib\\site-packages\\sklearn\\base.py:1389: ConvergenceWarning: Number of distinct clusters (3) found smaller than n_clusters (4). Possibly due to duplicate points in X.\n",
      "  return fit_method(estimator, *args, **kwargs)\n",
      "d:\\Anaconda3\\envs\\bt\\lib\\site-packages\\sklearn\\base.py:1389: ConvergenceWarning: Number of distinct clusters (3) found smaller than n_clusters (4). Possibly due to duplicate points in X.\n",
      "  return fit_method(estimator, *args, **kwargs)\n",
      "d:\\Anaconda3\\envs\\bt\\lib\\site-packages\\sklearn\\base.py:1389: ConvergenceWarning: Number of distinct clusters (3) found smaller than n_clusters (4). Possibly due to duplicate points in X.\n",
      "  return fit_method(estimator, *args, **kwargs)\n",
      "d:\\Anaconda3\\envs\\bt\\lib\\site-packages\\sklearn\\base.py:1389: ConvergenceWarning: Number of distinct clusters (3) found smaller than n_clusters (4). Possibly due to duplicate points in X.\n",
      "  return fit_method(estimator, *args, **kwargs)\n"
     ]
    },
    {
     "name": "stdout",
     "output_type": "stream",
     "text": [
      "(4000, 32)\n",
      "(4000, 64)\n",
      "(4000, 128)\n",
      "(4000, 256)\n",
      "(4000, 512)\n",
      "(4000, 1024)\n",
      "(4000, 2048)\n",
      "(4000, 4096)\n",
      "(4000, 256)\n",
      "(4000, 256)\n",
      "(4000, 256)\n",
      "(4000, 256)\n",
      "(4000, 256)\n",
      "(4000, 256)\n",
      "(4000, 256)\n",
      "(4000, 256)\n",
      "(4000, 256)\n",
      "(4000, 256)\n",
      "(4000, 256)\n",
      "(4000, 256)\n",
      "(4000, 256)\n",
      "(4000, 16)\n",
      "(4000, 32)\n",
      "(4000, 64)\n",
      "(4000, 128)\n",
      "(4000, 256)\n",
      "(4000, 512)\n",
      "(4000, 1024)\n",
      "(4000, 2048)\n",
      "(4000, 4096)\n",
      "(4000, 256)\n",
      "(4000, 256)\n",
      "(4000, 256)\n",
      "(4000, 256)\n",
      "(4000, 256)\n",
      "(4000, 256)\n",
      "(4000, 256)\n",
      "(4000, 256)\n",
      "(4000, 256)\n",
      "(4000, 256)\n",
      "(4000, 256)\n",
      "(4000, 256)\n",
      "(4000, 256)\n",
      "(4000, 16)\n",
      "(4000, 32)\n",
      "(4000, 64)\n",
      "(4000, 128)\n",
      "(4000, 256)\n",
      "(4000, 512)\n",
      "(4000, 1024)\n",
      "(4000, 2048)\n",
      "(4000, 4096)\n",
      "(4000, 256)\n",
      "(4000, 256)\n",
      "(4000, 256)\n",
      "(4000, 256)\n",
      "(4000, 256)\n",
      "(4000, 256)\n",
      "(4000, 256)\n",
      "(4000, 256)\n",
      "(4000, 256)\n",
      "(4000, 256)\n",
      "(4000, 256)\n",
      "(4000, 256)\n",
      "(4000, 256)\n",
      "(4000, 16)\n",
      "(4000, 32)\n",
      "(4000, 64)\n",
      "(4000, 128)\n",
      "(4000, 256)\n",
      "(4000, 512)\n",
      "(4000, 1024)\n",
      "(4000, 2048)\n",
      "(4000, 4096)\n",
      "(4000, 256)\n",
      "(4000, 256)\n",
      "(4000, 256)\n",
      "(4000, 256)\n",
      "(4000, 256)\n",
      "(4000, 256)\n",
      "(4000, 256)\n",
      "(4000, 256)\n",
      "(4000, 256)\n",
      "(4000, 256)\n",
      "(4000, 256)\n",
      "(4000, 256)\n",
      "(4000, 256)\n"
     ]
    }
   ],
   "source": [
    "# 计算特征并存储--训练集\n",
    "for i in device_name:\n",
    "    process_iq_data(i, sym_list, 4000, snr_list)"
   ]
  },
  {
   "cell_type": "code",
   "execution_count": 7,
   "metadata": {},
   "outputs": [],
   "source": [
    "# 将四个设备对应特征混合到一个csv文件中\n",
    "device_path = [f'../preprocessed/{name}/{name}_256.csv' for name in device_name]\n",
    "labels = [0, 1, 2, 3]\n",
    "combined_df = merge_and_label_csv(device_path, labels)"
   ]
  },
  {
   "cell_type": "code",
   "execution_count": 8,
   "metadata": {},
   "outputs": [
    {
     "name": "stdout",
     "output_type": "stream",
     "text": [
      "CSV files have been merged and labeled successfully.\n"
     ]
    }
   ],
   "source": [
    "# 保存到新的CSV文件\n",
    "combined_df.to_csv('../preprocessed/combined_features_256.csv', index=False)\n",
    "print(\"CSV files have been merged and labeled successfully.\")"
   ]
  },
  {
   "cell_type": "code",
   "execution_count": 9,
   "metadata": {},
   "outputs": [
    {
     "name": "stdout",
     "output_type": "stream",
     "text": [
      "['../preprocessed/bladerf/bladerf_-10.csv', '../preprocessed/hackrf0/hackrf0_-10.csv', '../preprocessed/hackrf1/hackrf1_-10.csv', '../preprocessed/limesdr/limesdr_-10.csv']\n",
      "['../preprocessed/bladerf/bladerf_-10_test.csv', '../preprocessed/hackrf0/hackrf0_-10_test.csv', '../preprocessed/hackrf1/hackrf1_-10_test.csv', '../preprocessed/limesdr/limesdr_-10_test.csv']\n",
      "['../preprocessed/bladerf/bladerf_-5.csv', '../preprocessed/hackrf0/hackrf0_-5.csv', '../preprocessed/hackrf1/hackrf1_-5.csv', '../preprocessed/limesdr/limesdr_-5.csv']\n",
      "['../preprocessed/bladerf/bladerf_-5_test.csv', '../preprocessed/hackrf0/hackrf0_-5_test.csv', '../preprocessed/hackrf1/hackrf1_-5_test.csv', '../preprocessed/limesdr/limesdr_-5_test.csv']\n",
      "['../preprocessed/bladerf/bladerf_0.csv', '../preprocessed/hackrf0/hackrf0_0.csv', '../preprocessed/hackrf1/hackrf1_0.csv', '../preprocessed/limesdr/limesdr_0.csv']\n",
      "['../preprocessed/bladerf/bladerf_0_test.csv', '../preprocessed/hackrf0/hackrf0_0_test.csv', '../preprocessed/hackrf1/hackrf1_0_test.csv', '../preprocessed/limesdr/limesdr_0_test.csv']\n",
      "['../preprocessed/bladerf/bladerf_5.csv', '../preprocessed/hackrf0/hackrf0_5.csv', '../preprocessed/hackrf1/hackrf1_5.csv', '../preprocessed/limesdr/limesdr_5.csv']\n",
      "['../preprocessed/bladerf/bladerf_5_test.csv', '../preprocessed/hackrf0/hackrf0_5_test.csv', '../preprocessed/hackrf1/hackrf1_5_test.csv', '../preprocessed/limesdr/limesdr_5_test.csv']\n",
      "['../preprocessed/bladerf/bladerf_10.csv', '../preprocessed/hackrf0/hackrf0_10.csv', '../preprocessed/hackrf1/hackrf1_10.csv', '../preprocessed/limesdr/limesdr_10.csv']\n",
      "['../preprocessed/bladerf/bladerf_10_test.csv', '../preprocessed/hackrf0/hackrf0_10_test.csv', '../preprocessed/hackrf1/hackrf1_10_test.csv', '../preprocessed/limesdr/limesdr_10_test.csv']\n",
      "['../preprocessed/bladerf/bladerf_15.csv', '../preprocessed/hackrf0/hackrf0_15.csv', '../preprocessed/hackrf1/hackrf1_15.csv', '../preprocessed/limesdr/limesdr_15.csv']\n",
      "['../preprocessed/bladerf/bladerf_15_test.csv', '../preprocessed/hackrf0/hackrf0_15_test.csv', '../preprocessed/hackrf1/hackrf1_15_test.csv', '../preprocessed/limesdr/limesdr_15_test.csv']\n",
      "['../preprocessed/bladerf/bladerf_20.csv', '../preprocessed/hackrf0/hackrf0_20.csv', '../preprocessed/hackrf1/hackrf1_20.csv', '../preprocessed/limesdr/limesdr_20.csv']\n",
      "['../preprocessed/bladerf/bladerf_20_test.csv', '../preprocessed/hackrf0/hackrf0_20_test.csv', '../preprocessed/hackrf1/hackrf1_20_test.csv', '../preprocessed/limesdr/limesdr_20_test.csv']\n",
      "['../preprocessed/bladerf/bladerf_25.csv', '../preprocessed/hackrf0/hackrf0_25.csv', '../preprocessed/hackrf1/hackrf1_25.csv', '../preprocessed/limesdr/limesdr_25.csv']\n",
      "['../preprocessed/bladerf/bladerf_25_test.csv', '../preprocessed/hackrf0/hackrf0_25_test.csv', '../preprocessed/hackrf1/hackrf1_25_test.csv', '../preprocessed/limesdr/limesdr_25_test.csv']\n",
      "['../preprocessed/bladerf/bladerf_30.csv', '../preprocessed/hackrf0/hackrf0_30.csv', '../preprocessed/hackrf1/hackrf1_30.csv', '../preprocessed/limesdr/limesdr_30.csv']\n",
      "['../preprocessed/bladerf/bladerf_30_test.csv', '../preprocessed/hackrf0/hackrf0_30_test.csv', '../preprocessed/hackrf1/hackrf1_30_test.csv', '../preprocessed/limesdr/limesdr_30_test.csv']\n",
      "['../preprocessed/bladerf/bladerf_35.csv', '../preprocessed/hackrf0/hackrf0_35.csv', '../preprocessed/hackrf1/hackrf1_35.csv', '../preprocessed/limesdr/limesdr_35.csv']\n",
      "['../preprocessed/bladerf/bladerf_35_test.csv', '../preprocessed/hackrf0/hackrf0_35_test.csv', '../preprocessed/hackrf1/hackrf1_35_test.csv', '../preprocessed/limesdr/limesdr_35_test.csv']\n",
      "['../preprocessed/bladerf/bladerf_40.csv', '../preprocessed/hackrf0/hackrf0_40.csv', '../preprocessed/hackrf1/hackrf1_40.csv', '../preprocessed/limesdr/limesdr_40.csv']\n",
      "['../preprocessed/bladerf/bladerf_40_test.csv', '../preprocessed/hackrf0/hackrf0_40_test.csv', '../preprocessed/hackrf1/hackrf1_40_test.csv', '../preprocessed/limesdr/limesdr_40_test.csv']\n",
      "['../preprocessed/bladerf/bladerf_45.csv', '../preprocessed/hackrf0/hackrf0_45.csv', '../preprocessed/hackrf1/hackrf1_45.csv', '../preprocessed/limesdr/limesdr_45.csv']\n",
      "['../preprocessed/bladerf/bladerf_45_test.csv', '../preprocessed/hackrf0/hackrf0_45_test.csv', '../preprocessed/hackrf1/hackrf1_45_test.csv', '../preprocessed/limesdr/limesdr_45_test.csv']\n",
      "['../preprocessed/bladerf/bladerf_50.csv', '../preprocessed/hackrf0/hackrf0_50.csv', '../preprocessed/hackrf1/hackrf1_50.csv', '../preprocessed/limesdr/limesdr_50.csv']\n",
      "['../preprocessed/bladerf/bladerf_50_test.csv', '../preprocessed/hackrf0/hackrf0_50_test.csv', '../preprocessed/hackrf1/hackrf1_50_test.csv', '../preprocessed/limesdr/limesdr_50_test.csv']\n"
     ]
    }
   ],
   "source": [
    "combine_all_snr(device_name, snr_list, labels)"
   ]
  },
  {
   "cell_type": "code",
   "execution_count": 10,
   "metadata": {},
   "outputs": [
    {
     "name": "stdout",
     "output_type": "stream",
     "text": [
      "['../preprocessed/bladerf/bladerf_16.csv', '../preprocessed/hackrf0/hackrf0_16.csv', '../preprocessed/hackrf1/hackrf1_16.csv', '../preprocessed/limesdr/limesdr_16.csv']\n",
      "['../preprocessed/bladerf/bladerf_16_test.csv', '../preprocessed/hackrf0/hackrf0_16_test.csv', '../preprocessed/hackrf1/hackrf1_16_test.csv', '../preprocessed/limesdr/limesdr_16_test.csv']\n",
      "['../preprocessed/bladerf/bladerf_32.csv', '../preprocessed/hackrf0/hackrf0_32.csv', '../preprocessed/hackrf1/hackrf1_32.csv', '../preprocessed/limesdr/limesdr_32.csv']\n",
      "['../preprocessed/bladerf/bladerf_32_test.csv', '../preprocessed/hackrf0/hackrf0_32_test.csv', '../preprocessed/hackrf1/hackrf1_32_test.csv', '../preprocessed/limesdr/limesdr_32_test.csv']\n",
      "['../preprocessed/bladerf/bladerf_64.csv', '../preprocessed/hackrf0/hackrf0_64.csv', '../preprocessed/hackrf1/hackrf1_64.csv', '../preprocessed/limesdr/limesdr_64.csv']\n",
      "['../preprocessed/bladerf/bladerf_64_test.csv', '../preprocessed/hackrf0/hackrf0_64_test.csv', '../preprocessed/hackrf1/hackrf1_64_test.csv', '../preprocessed/limesdr/limesdr_64_test.csv']\n",
      "['../preprocessed/bladerf/bladerf_128.csv', '../preprocessed/hackrf0/hackrf0_128.csv', '../preprocessed/hackrf1/hackrf1_128.csv', '../preprocessed/limesdr/limesdr_128.csv']\n",
      "['../preprocessed/bladerf/bladerf_128_test.csv', '../preprocessed/hackrf0/hackrf0_128_test.csv', '../preprocessed/hackrf1/hackrf1_128_test.csv', '../preprocessed/limesdr/limesdr_128_test.csv']\n",
      "['../preprocessed/bladerf/bladerf_256.csv', '../preprocessed/hackrf0/hackrf0_256.csv', '../preprocessed/hackrf1/hackrf1_256.csv', '../preprocessed/limesdr/limesdr_256.csv']\n",
      "['../preprocessed/bladerf/bladerf_256_test.csv', '../preprocessed/hackrf0/hackrf0_256_test.csv', '../preprocessed/hackrf1/hackrf1_256_test.csv', '../preprocessed/limesdr/limesdr_256_test.csv']\n",
      "['../preprocessed/bladerf/bladerf_512.csv', '../preprocessed/hackrf0/hackrf0_512.csv', '../preprocessed/hackrf1/hackrf1_512.csv', '../preprocessed/limesdr/limesdr_512.csv']\n",
      "['../preprocessed/bladerf/bladerf_512_test.csv', '../preprocessed/hackrf0/hackrf0_512_test.csv', '../preprocessed/hackrf1/hackrf1_512_test.csv', '../preprocessed/limesdr/limesdr_512_test.csv']\n",
      "['../preprocessed/bladerf/bladerf_1024.csv', '../preprocessed/hackrf0/hackrf0_1024.csv', '../preprocessed/hackrf1/hackrf1_1024.csv', '../preprocessed/limesdr/limesdr_1024.csv']\n",
      "['../preprocessed/bladerf/bladerf_1024_test.csv', '../preprocessed/hackrf0/hackrf0_1024_test.csv', '../preprocessed/hackrf1/hackrf1_1024_test.csv', '../preprocessed/limesdr/limesdr_1024_test.csv']\n",
      "['../preprocessed/bladerf/bladerf_2048.csv', '../preprocessed/hackrf0/hackrf0_2048.csv', '../preprocessed/hackrf1/hackrf1_2048.csv', '../preprocessed/limesdr/limesdr_2048.csv']\n",
      "['../preprocessed/bladerf/bladerf_2048_test.csv', '../preprocessed/hackrf0/hackrf0_2048_test.csv', '../preprocessed/hackrf1/hackrf1_2048_test.csv', '../preprocessed/limesdr/limesdr_2048_test.csv']\n",
      "['../preprocessed/bladerf/bladerf_4096.csv', '../preprocessed/hackrf0/hackrf0_4096.csv', '../preprocessed/hackrf1/hackrf1_4096.csv', '../preprocessed/limesdr/limesdr_4096.csv']\n",
      "['../preprocessed/bladerf/bladerf_4096_test.csv', '../preprocessed/hackrf0/hackrf0_4096_test.csv', '../preprocessed/hackrf1/hackrf1_4096_test.csv', '../preprocessed/limesdr/limesdr_4096_test.csv']\n"
     ]
    }
   ],
   "source": [
    "combine_all_sym(device_name, sym_list, labels)"
   ]
  },
  {
   "cell_type": "code",
   "execution_count": null,
   "metadata": {},
   "outputs": [],
   "source": []
  }
 ],
 "metadata": {
  "kernelspec": {
   "display_name": "bt",
   "language": "python",
   "name": "python3"
  },
  "language_info": {
   "codemirror_mode": {
    "name": "ipython",
    "version": 3
   },
   "file_extension": ".py",
   "mimetype": "text/x-python",
   "name": "python",
   "nbconvert_exporter": "python",
   "pygments_lexer": "ipython3",
   "version": "3.10.16"
  },
  "orig_nbformat": 4
 },
 "nbformat": 4,
 "nbformat_minor": 2
}
