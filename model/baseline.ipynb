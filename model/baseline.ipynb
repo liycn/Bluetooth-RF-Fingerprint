{
 "cells": [
  {
   "cell_type": "markdown",
   "metadata": {},
   "source": [
    "全部特征直接放入，不对特征进行选择"
   ]
  },
  {
   "cell_type": "code",
   "execution_count": 2,
   "metadata": {},
   "outputs": [],
   "source": [
    "%load_ext autoreload\n",
    "%autoreload 2"
   ]
  },
  {
   "cell_type": "code",
   "execution_count": 3,
   "metadata": {},
   "outputs": [],
   "source": [
    "import numpy as np\n",
    "import pandas as pd\n",
    "import matplotlib.pyplot as plt\n",
    "import seaborn as sns\n",
    "import warnings, os, sys, shutil\n",
    "import xgboost as xgb\n",
    "import lightgbm as lgb\n",
    "from catboost import CatBoost, CatBoostClassifier\n",
    "from typing import Tuple\n",
    "from utility import *\n",
    "from sklearn.utils import shuffle\n",
    "from sklearn.preprocessing import StandardScaler\n",
    "from sklearn.model_selection import train_test_split\n",
    "from sklearn.metrics import roc_auc_score, accuracy_score, log_loss\n",
    "from sklearn.ensemble import VotingClassifier, StackingClassifier, GradientBoostingClassifier, RandomForestClassifier\n",
    "from sklearn.linear_model import LogisticRegression\n",
    "from sklearn.ensemble import RandomForestClassifier, AdaBoostClassifier, GradientBoostingClassifier\n",
    "from sklearn.naive_bayes import GaussianNB, BernoulliNB\n",
    "from sklearn.neighbors import KNeighborsClassifier\n",
    "from sklearn.neural_network import MLPClassifier\n",
    "from sklearn.svm import SVC\n",
    "from sklearn.tree import DecisionTreeClassifier\n",
    "from sklearn.naive_bayes import GaussianNB\n",
    "\n",
    "warnings.filterwarnings(\"ignore\")"
   ]
  },
  {
   "cell_type": "code",
   "execution_count": 4,
   "metadata": {},
   "outputs": [],
   "source": [
    "train = pd.read_csv('../preprocessed/combined_features_256.csv')\n",
    "test  = pd.read_csv('../preprocessed/combined_features_256_test.csv')\n",
    "train = shuffle(train, random_state=42)\n",
    "y_train = train['label']\n",
    "x_train = train.drop('label', axis=1)\n",
    "Y_test = test['label']\n",
    "X_test = test.drop('label', axis=1)"
   ]
  },
  {
   "cell_type": "code",
   "execution_count": 6,
   "metadata": {},
   "outputs": [
    {
     "data": {
      "text/plain": [
       "0.96375"
      ]
     },
     "execution_count": 6,
     "metadata": {},
     "output_type": "execute_result"
    }
   ],
   "source": [
    "# xgboost\n",
    "# 'booster': 'dart', 'lambda': 0.001642503154410547, 'alpha': 2.8456229527881028e-08, 'subsample': 0.3431387440085293, 'colsample_bytree': 0.5217278257570154, \n",
    "# 'learning_rate': 0.026933381156000847, 'n_estimators': 815, 'max_depth': 14, 'eta': 0.06455751355230073, 'gamma': 0.06478402966069816, 'grow_policy': 'depthwise', \n",
    "# 'sample_type': 'weighted', 'normalize_type': 'forest', 'rate_drop': 1.0795037051330119e-05, 'skip_drop': 3.654340342849924e-05\n",
    "xgb_c = xgb.XGBClassifier(eval_metric='logloss')\n",
    "xgb_c.fit(x_train, y_train)\n",
    "xgb_pred = xgb_c.predict(X_test)\n",
    "xgb_accuracy = accuracy_score(xgb_pred, Y_test)\n",
    "# xgb_pred\n",
    "xgb_accuracy\n"
   ]
  },
  {
   "cell_type": "code",
   "execution_count": 8,
   "metadata": {},
   "outputs": [
    {
     "data": {
      "image/png": "[encoded data removed]",
      "text/plain": [
       "<Figure size 800x600 with 1 Axes>"
      ]
     },
     "metadata": {},
     "output_type": "display_data"
    }
   ],
   "source": [
    "# 计算混淆矩阵\n",
    "from sklearn.metrics import confusion_matrix\n",
    "conf_mat = confusion_matrix(Y_test, xgb_pred)\n",
    "# 绘制混淆矩阵\n",
    "plt.figure(figsize=(8, 6))\n",
    "plt.imshow(conf_mat, cmap='Blues', interpolation='nearest')\n",
    "for i in range(len(conf_mat)):\n",
    "    for j in range(len(conf_mat)):\n",
    "        plt.annotate(conf_mat[j, i], xy=(i, j), horizontalalignment='center', verticalalignment='center')\n",
    "\n",
    "plt.title('XGBoost混淆矩阵', fontproperties=\"SimHei\")\n",
    "plt.ylabel('真实类别', fontproperties=\"SimSun\")\n",
    "plt.xlabel('预测类别', fontproperties=\"SimSun\")\n",
    "plt.xticks(range(4), ['bladerf', 'hackrf0', 'hackrf1', 'limesdr'])\n",
    "plt.yticks(range(4), ['bladerf', 'hackrf0', 'hackrf1', 'limesdr'])\n",
    "# plt.colorbar()\n",
    "plt.show()"
   ]
  },
  {
   "cell_type": "code",
   "execution_count": 5,
   "metadata": {},
   "outputs": [
    {
     "data": {
      "text/plain": [
       "0.961"
      ]
     },
     "execution_count": 5,
     "metadata": {},
     "output_type": "execute_result"
    }
   ],
   "source": [
    "# lightgbm\n",
    "lgb_c = lgb.LGBMClassifier(verbose=0, force_row_wise=True)\n",
    "lgb_c.fit(x_train, y_train)\n",
    "lgb_pred = lgb_c.predict(X_test)\n",
    "# y_pred = lgb_c.predict_proba(X_test)\n",
    "lgb_accuracy = accuracy_score(lgb_pred, Y_test)\n",
    "lgb_accuracy"
   ]
  },
  {
   "cell_type": "code",
   "execution_count": 6,
   "metadata": {},
   "outputs": [
    {
     "data": {
      "text/plain": [
       "0.9645"
      ]
     },
     "execution_count": 6,
     "metadata": {},
     "output_type": "execute_result"
    }
   ],
   "source": [
    "# catboost\n",
    "cat = CatBoostClassifier(verbose=0)\n",
    "cat.fit(x_train, y_train)\n",
    "cat_pred = cat.predict(X_test)\n",
    "# cat_pred_proba = cat.predict_proba(X_test)\n",
    "cat_accuracy = accuracy_score(cat_pred, Y_test)\n",
    "\n",
    "cat_accuracy"
   ]
  },
  {
   "cell_type": "code",
   "execution_count": 11,
   "metadata": {},
   "outputs": [
    {
     "data": {
      "text/plain": [
       "0.94925"
      ]
     },
     "execution_count": 11,
     "metadata": {},
     "output_type": "execute_result"
    }
   ],
   "source": [
    "# gbdt\n",
    "gbdt = GradientBoostingClassifier()\n",
    "gbdt.fit(x_train, y_train)\n",
    "gbdt_pred = gbdt.predict(X_test)\n",
    "\n",
    "accuracy_score(gbdt_pred, Y_test)"
   ]
  },
  {
   "cell_type": "code",
   "execution_count": 13,
   "metadata": {},
   "outputs": [
    {
     "data": {
      "text/plain": [
       "0.9175"
      ]
     },
     "execution_count": 13,
     "metadata": {},
     "output_type": "execute_result"
    }
   ],
   "source": [
    "# dt\n",
    "dt = DecisionTreeClassifier()\n",
    "dt.fit(x_train, y_train)\n",
    "dt_pred = dt.predict(X_test)\n",
    "\n",
    "accuracy_score(dt_pred, Y_test)"
   ]
  },
  {
   "cell_type": "code",
   "execution_count": 15,
   "metadata": {},
   "outputs": [
    {
     "data": {
      "text/plain": [
       "0.95975"
      ]
     },
     "execution_count": 15,
     "metadata": {},
     "output_type": "execute_result"
    }
   ],
   "source": [
    "# rg\n",
    "rf = RandomForestClassifier()\n",
    "rf.fit(x_train, y_train)\n",
    "rf_pred = rf.predict(X_test)\n",
    "\n",
    "accuracy_score(rf_pred, Y_test)"
   ]
  },
  {
   "cell_type": "code",
   "execution_count": 7,
   "metadata": {},
   "outputs": [
    {
     "data": {
      "text/plain": [
       "0.61075"
      ]
     },
     "execution_count": 7,
     "metadata": {},
     "output_type": "execute_result"
    }
   ],
   "source": [
    "# svm\n",
    "# from sklearn.model_selection import train_test_split, cross_val_score, KFold\n",
    "# kf = KFold(n_splits=5, shuffle=True, random_state=42)\n",
    "svm = SVC(kernel=\"linear\", decision_function_shape=\"ovo\", max_iter=100000, probability=True)\n",
    "# train_scores = cross_val_score(svm, x_train, y_train, cv=kf, scoring='accuracy')\n",
    "# print(np.mean(train_scores))\n",
    "# {'kernel': 'rbf', 'C': 1472132.7090873513, 'gamma': 'scale'}\n",
    "# svm = SVC(kernel='rbf', C=1472.1327090873513, gamma='scale', max_iter=100000)\n",
    "\n",
    "svm.fit(x_train, y_train)\n",
    "y_pred = svm.predict(X_test)\n",
    "accuracy_score(y_pred, Y_test)"
   ]
  },
  {
   "cell_type": "code",
   "execution_count": 8,
   "metadata": {},
   "outputs": [
    {
     "data": {
      "text/plain": [
       "0.5385"
      ]
     },
     "execution_count": 8,
     "metadata": {},
     "output_type": "execute_result"
    }
   ],
   "source": [
    "# knn\n",
    "knn = KNeighborsClassifier(n_neighbors=5, weights='distance', algorithm='kd_tree', leaf_size=10, p=1, n_jobs=-1)\n",
    "knn.fit(x_train,y_train)\n",
    "y_pred = knn.predict(X_test)\n",
    "accuracy_score(y_pred, Y_test)"
   ]
  },
  {
   "cell_type": "code",
   "execution_count": 9,
   "metadata": {},
   "outputs": [
    {
     "data": {
      "text/plain": [
       "0.716"
      ]
     },
     "execution_count": 9,
     "metadata": {},
     "output_type": "execute_result"
    }
   ],
   "source": [
    "# bayes\n",
    "bayes = GaussianNB()\n",
    "bayes.fit(x_train,y_train)\n",
    "y_pred = bayes.predict(X_test)\n",
    "accuracy_score(y_pred, Y_test)"
   ]
  },
  {
   "cell_type": "code",
   "execution_count": 21,
   "metadata": {},
   "outputs": [
    {
     "name": "stdout",
     "output_type": "stream",
     "text": [
      "0.948\n"
     ]
    }
   ],
   "source": [
    "\n",
    "mul_estimators = [('xgb', xgb_c), ('lgb', lgb_c), ('cat', cat), ('svm', svm), ('knn', knn), ('bayes', bayes), ('rf', rf), ('dt', dt), ('gbdt', gbdt)]\n",
    "mul_estimators = [('xgb', xgb_c), ('svm', svm), ('knn', knn), ('bayes', bayes), ('rf', rf), ('dt', dt)]\n",
    "voting_clf_s = VotingClassifier(estimators=mul_estimators, voting='soft', n_jobs=-1)\n",
    "voting_clf_s.fit(x_train, y_train)\n",
    "softpred = voting_clf_s.predict(X_test)\n",
    "soft_accuracy = accuracy_score(softpred, Y_test)\n",
    "\n",
    "print(soft_accuracy)"
   ]
  },
  {
   "cell_type": "code",
   "execution_count": 17,
   "metadata": {},
   "outputs": [],
   "source": [
    "lr = LogisticRegression(solver='lbfgs', n_jobs=-1, random_state=42)"
   ]
  },
  {
   "cell_type": "code",
   "execution_count": 23,
   "metadata": {},
   "outputs": [
    {
     "name": "stdout",
     "output_type": "stream",
     "text": [
      "acc: 0.9645\n"
     ]
    }
   ],
   "source": [
    "mul_estimators = [('xgb', xgb_c), ('svm', svm), ('knn', knn), ('bayes', bayes), ('dt', dt)]\n",
    "stacking_clf = StackingClassifier(estimators=mul_estimators, final_estimator=lr, n_jobs=-1)\n",
    "stacking_clf.fit(x_train, y_train)\n",
    "stacking_clf_pred = stacking_clf.predict(X_test)\n",
    "print('acc:', accuracy_score(Y_test, stacking_clf_pred))"
   ]
  }
 ],
 "metadata": {
  "kernelspec": {
   "display_name": "Python 3",
   "language": "python",
   "name": "python3"
  },
  "language_info": {
   "codemirror_mode": {
    "name": "ipython",
    "version": 3
   },
   "file_extension": ".py",
   "mimetype": "text/x-python",
   "name": "python",
   "nbconvert_exporter": "python",
   "pygments_lexer": "ipython3",
   "version": "3.8.5"
  },
  "vscode": {
   "interpreter": {
    "hash": "6eaea64310228e9f754520128e4f9a6259bb26f5c3839fa5dce3903f5873b011"
   }
  }
 },
 "nbformat": 4,
 "nbformat_minor": 2
}
