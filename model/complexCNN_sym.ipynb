{
 "cells": [
  {
   "cell_type": "code",
   "execution_count": 1,
   "metadata": {},
   "outputs": [],
   "source": [
    "import torch\n",
    "import numpy as np\n",
    "import pandas as pd\n",
    "import torch.nn as nn\n",
    "import seaborn as sns\n",
    "import torch.optim as optim\n",
    "import matplotlib.pyplot as plt\n",
    "from sklearn.utils import shuffle\n",
    "from sklearn.metrics import confusion_matrix\n",
    "from network import create_model, create_dataloaders"
   ]
  },
  {
   "cell_type": "code",
   "execution_count": 2,
   "metadata": {},
   "outputs": [
    {
     "name": "stdout",
     "output_type": "stream",
     "text": [
      "PyTorch是否编译了CUDA: True\n",
      "PyTorch CUDA版本: 12.6\n"
     ]
    }
   ],
   "source": [
    "# 检查PyTorch是否正确编译了CUDA\n",
    "print(f\"PyTorch是否编译了CUDA: {torch.cuda.is_available()}\")\n",
    "print(f\"PyTorch CUDA版本: {torch.version.cuda}\")"
   ]
  },
  {
   "cell_type": "code",
   "execution_count": 3,
   "metadata": {},
   "outputs": [],
   "source": [
    "# 1. 选择训练方式\n",
    "sizes = [128, 256, 512, 1024, 2048, 4096] # 基于符号长度进行训练"
   ]
  },
  {
   "cell_type": "code",
   "execution_count": 4,
   "metadata": {},
   "outputs": [
    {
     "name": "stderr",
     "output_type": "stream",
     "text": [
      "C:\\Users\\Y\\AppData\\Local\\Temp\\ipykernel_331204\\1864263499.py:9: FutureWarning: DataFrame.applymap has been deprecated. Use DataFrame.map instead.\n",
      "  X_train = df_train.drop('label', axis=1).applymap(lambda x: complex(x)).values\n",
      "C:\\Users\\Y\\AppData\\Local\\Temp\\ipykernel_331204\\1864263499.py:14: FutureWarning: DataFrame.applymap has been deprecated. Use DataFrame.map instead.\n",
      "  X_test = df_test.drop('label', axis=1).applymap(lambda x: complex(x)).values\n",
      "C:\\Users\\Y\\AppData\\Local\\Temp\\ipykernel_331204\\1864263499.py:9: FutureWarning: DataFrame.applymap has been deprecated. Use DataFrame.map instead.\n",
      "  X_train = df_train.drop('label', axis=1).applymap(lambda x: complex(x)).values\n",
      "C:\\Users\\Y\\AppData\\Local\\Temp\\ipykernel_331204\\1864263499.py:14: FutureWarning: DataFrame.applymap has been deprecated. Use DataFrame.map instead.\n",
      "  X_test = df_test.drop('label', axis=1).applymap(lambda x: complex(x)).values\n",
      "C:\\Users\\Y\\AppData\\Local\\Temp\\ipykernel_331204\\1864263499.py:9: FutureWarning: DataFrame.applymap has been deprecated. Use DataFrame.map instead.\n",
      "  X_train = df_train.drop('label', axis=1).applymap(lambda x: complex(x)).values\n",
      "C:\\Users\\Y\\AppData\\Local\\Temp\\ipykernel_331204\\1864263499.py:14: FutureWarning: DataFrame.applymap has been deprecated. Use DataFrame.map instead.\n",
      "  X_test = df_test.drop('label', axis=1).applymap(lambda x: complex(x)).values\n",
      "C:\\Users\\Y\\AppData\\Local\\Temp\\ipykernel_331204\\1864263499.py:9: FutureWarning: DataFrame.applymap has been deprecated. Use DataFrame.map instead.\n",
      "  X_train = df_train.drop('label', axis=1).applymap(lambda x: complex(x)).values\n",
      "C:\\Users\\Y\\AppData\\Local\\Temp\\ipykernel_331204\\1864263499.py:14: FutureWarning: DataFrame.applymap has been deprecated. Use DataFrame.map instead.\n",
      "  X_test = df_test.drop('label', axis=1).applymap(lambda x: complex(x)).values\n",
      "C:\\Users\\Y\\AppData\\Local\\Temp\\ipykernel_331204\\1864263499.py:9: FutureWarning: DataFrame.applymap has been deprecated. Use DataFrame.map instead.\n",
      "  X_train = df_train.drop('label', axis=1).applymap(lambda x: complex(x)).values\n",
      "C:\\Users\\Y\\AppData\\Local\\Temp\\ipykernel_331204\\1864263499.py:14: FutureWarning: DataFrame.applymap has been deprecated. Use DataFrame.map instead.\n",
      "  X_test = df_test.drop('label', axis=1).applymap(lambda x: complex(x)).values\n",
      "C:\\Users\\Y\\AppData\\Local\\Temp\\ipykernel_331204\\1864263499.py:9: FutureWarning: DataFrame.applymap has been deprecated. Use DataFrame.map instead.\n",
      "  X_train = df_train.drop('label', axis=1).applymap(lambda x: complex(x)).values\n",
      "C:\\Users\\Y\\AppData\\Local\\Temp\\ipykernel_331204\\1864263499.py:14: FutureWarning: DataFrame.applymap has been deprecated. Use DataFrame.map instead.\n",
      "  X_test = df_test.drop('label', axis=1).applymap(lambda x: complex(x)).values\n"
     ]
    }
   ],
   "source": [
    "# 加载数据\n",
    "X_train, y_train = {}, {}\n",
    "X_test, y_test = {}, {}\n",
    "\n",
    "for size in sizes:\n",
    "    # 训练集\n",
    "    df_train = shuffle(pd.read_csv(f'../preprocessed/combined_features_{size}.csv'), random_state=42)\n",
    "    y_train = df_train['label']\n",
    "    X_train = df_train.drop('label', axis=1).applymap(lambda x: complex(x)).values\n",
    "    \n",
    "    # 测试集\n",
    "    df_test = shuffle(pd.read_csv(f'../preprocessed/combined_features_{size}_test.csv'), random_state=42)\n",
    "    y_test = df_test['label']\n",
    "    X_test = df_test.drop('label', axis=1).applymap(lambda x: complex(x)).values"
   ]
  },
  {
   "cell_type": "code",
   "execution_count": 5,
   "metadata": {},
   "outputs": [],
   "source": [
    "# 2. 创建数据加载器\n",
    "batch_size = 32\n",
    "train_loader, test_loader, (scaler_real, scaler_imag) = create_dataloaders(X_train, y_train, X_test, y_test, batch_size)"
   ]
  },
  {
   "cell_type": "code",
   "execution_count": 6,
   "metadata": {},
   "outputs": [],
   "source": [
    "# 3. 创建模型\n",
    "num_features = X_train.shape[1]\n",
    "num_classes = len(np.unique(y_train))\n",
    "model = create_model(num_features, num_classes)"
   ]
  },
  {
   "cell_type": "code",
   "execution_count": 7,
   "metadata": {},
   "outputs": [
    {
     "name": "stdout",
     "output_type": "stream",
     "text": [
      "使用设备: cuda\n"
     ]
    }
   ],
   "source": [
    "# 4. 设置训练参数\n",
    "device = torch.device('cuda' if torch.cuda.is_available() else 'cpu')\n",
    "print(f\"使用设备: {device}\")\n",
    "\n",
    "# 确保模型在GPU上\n",
    "model = create_model(num_features, num_classes)\n",
    "model = model.to(device)\n",
    "\n",
    "criterion = nn.CrossEntropyLoss()\n",
    "optimizer = optim.Adam(model.parameters(), lr=0.001)\n",
    "scheduler = optim.lr_scheduler.ReduceLROnPlateau(optimizer, 'max', patience=3)"
   ]
  },
  {
   "cell_type": "code",
   "execution_count": 8,
   "metadata": {},
   "outputs": [
    {
     "name": "stdout",
     "output_type": "stream",
     "text": [
      "\n",
      "=== Training for items 128 ===\n",
      "Epoch 1/10: Loss=0.3162, Acc=0.8990, Best Acc=0.8990\n",
      "Epoch 2/10: Loss=0.2298, Acc=0.9070, Best Acc=0.9070\n",
      "Epoch 3/10: Loss=0.2212, Acc=0.9058, Best Acc=0.9070\n",
      "Epoch 4/10: Loss=0.2097, Acc=0.9160, Best Acc=0.9160\n",
      "Epoch 5/10: Loss=0.2015, Acc=0.9143, Best Acc=0.9160\n",
      "Epoch 6/10: Loss=0.1970, Acc=0.9220, Best Acc=0.9220\n",
      "Epoch 7/10: Loss=0.1929, Acc=0.8975, Best Acc=0.9220\n",
      "Epoch 8/10: Loss=0.1950, Acc=0.9197, Best Acc=0.9220\n",
      "Epoch 9/10: Loss=0.1838, Acc=0.9030, Best Acc=0.9220\n",
      "Epoch 10/10: Loss=0.1880, Acc=0.9305, Best Acc=0.9305\n",
      "最终最佳准确率: 0.9305\n",
      "\n",
      "=== Training for items 256 ===\n",
      "Epoch 1/10: Loss=0.1755, Acc=0.9323, Best Acc=0.9323\n",
      "Epoch 2/10: Loss=0.1776, Acc=0.9253, Best Acc=0.9323\n",
      "Epoch 3/10: Loss=0.1700, Acc=0.9505, Best Acc=0.9505\n",
      "Epoch 4/10: Loss=0.1644, Acc=0.9585, Best Acc=0.9585\n",
      "Epoch 5/10: Loss=0.1627, Acc=0.9437, Best Acc=0.9585\n",
      "Epoch 6/10: Loss=0.1738, Acc=0.9303, Best Acc=0.9585\n",
      "Epoch 7/10: Loss=0.1538, Acc=0.9450, Best Acc=0.9585\n",
      "Epoch 8/10: Loss=0.1410, Acc=0.9567, Best Acc=0.9585\n",
      "Epoch 9/10: Loss=0.1043, Acc=0.9828, Best Acc=0.9828\n",
      "Epoch 10/10: Loss=0.1026, Acc=0.9808, Best Acc=0.9828\n",
      "最终最佳准确率: 0.9828\n",
      "\n",
      "=== Training for items 512 ===\n",
      "Epoch 1/10: Loss=0.0966, Acc=0.9805, Best Acc=0.9828\n",
      "Epoch 2/10: Loss=0.0922, Acc=0.9798, Best Acc=0.9828\n",
      "Epoch 3/10: Loss=0.0909, Acc=0.9780, Best Acc=0.9828\n",
      "Epoch 4/10: Loss=0.0873, Acc=0.9832, Best Acc=0.9832\n",
      "Epoch 5/10: Loss=0.0870, Acc=0.9808, Best Acc=0.9832\n",
      "Epoch 6/10: Loss=0.0843, Acc=0.9812, Best Acc=0.9832\n",
      "Epoch 7/10: Loss=0.0874, Acc=0.9832, Best Acc=0.9832\n",
      "Epoch 8/10: Loss=0.0880, Acc=0.9785, Best Acc=0.9832\n",
      "Epoch 9/10: Loss=0.0827, Acc=0.9822, Best Acc=0.9832\n",
      "Epoch 10/10: Loss=0.0871, Acc=0.9838, Best Acc=0.9838\n",
      "最终最佳准确率: 0.9838\n",
      "\n",
      "=== Training for items 1024 ===\n",
      "Epoch 1/10: Loss=0.0879, Acc=0.9772, Best Acc=0.9838\n",
      "Epoch 2/10: Loss=0.0878, Acc=0.9808, Best Acc=0.9838\n",
      "Epoch 3/10: Loss=0.0859, Acc=0.9805, Best Acc=0.9838\n",
      "Epoch 4/10: Loss=0.0821, Acc=0.9832, Best Acc=0.9838\n",
      "Epoch 5/10: Loss=0.0852, Acc=0.9835, Best Acc=0.9838\n",
      "Epoch 6/10: Loss=0.0821, Acc=0.9810, Best Acc=0.9838\n",
      "Epoch 7/10: Loss=0.0848, Acc=0.9810, Best Acc=0.9838\n",
      "Epoch 8/10: Loss=0.0869, Acc=0.9800, Best Acc=0.9838\n",
      "Epoch 9/10: Loss=0.0826, Acc=0.9800, Best Acc=0.9838\n",
      "Epoch 10/10: Loss=0.0850, Acc=0.9830, Best Acc=0.9838\n",
      "最终最佳准确率: 0.9838\n",
      "\n",
      "=== Training for items 2048 ===\n",
      "Epoch 1/10: Loss=0.0866, Acc=0.9825, Best Acc=0.9838\n",
      "Epoch 2/10: Loss=0.0892, Acc=0.9815, Best Acc=0.9838\n",
      "Epoch 3/10: Loss=0.0846, Acc=0.9810, Best Acc=0.9838\n",
      "Epoch 4/10: Loss=0.0824, Acc=0.9775, Best Acc=0.9838\n",
      "Epoch 5/10: Loss=0.0858, Acc=0.9808, Best Acc=0.9838\n",
      "Epoch 6/10: Loss=0.0863, Acc=0.9770, Best Acc=0.9838\n",
      "Epoch 7/10: Loss=0.0837, Acc=0.9802, Best Acc=0.9838\n",
      "Epoch 8/10: Loss=0.0852, Acc=0.9830, Best Acc=0.9838\n",
      "Epoch 9/10: Loss=0.0863, Acc=0.9822, Best Acc=0.9838\n",
      "Epoch 10/10: Loss=0.0844, Acc=0.9812, Best Acc=0.9838\n",
      "最终最佳准确率: 0.9838\n",
      "\n",
      "=== Training for items 4096 ===\n",
      "Epoch 1/10: Loss=0.0825, Acc=0.9850, Best Acc=0.9850\n",
      "Epoch 2/10: Loss=0.0882, Acc=0.9850, Best Acc=0.9850\n",
      "Epoch 3/10: Loss=0.0825, Acc=0.9790, Best Acc=0.9850\n",
      "Epoch 4/10: Loss=0.0858, Acc=0.9840, Best Acc=0.9850\n",
      "Epoch 5/10: Loss=0.0813, Acc=0.9820, Best Acc=0.9850\n",
      "Epoch 6/10: Loss=0.0860, Acc=0.9815, Best Acc=0.9850\n",
      "Epoch 7/10: Loss=0.0860, Acc=0.9832, Best Acc=0.9850\n",
      "Epoch 8/10: Loss=0.0844, Acc=0.9820, Best Acc=0.9850\n",
      "Epoch 9/10: Loss=0.0837, Acc=0.9840, Best Acc=0.9850\n",
      "Epoch 10/10: Loss=0.0864, Acc=0.9822, Best Acc=0.9850\n",
      "最终最佳准确率: 0.9850\n"
     ]
    }
   ],
   "source": [
    "# 5. 训练模型\n",
    "num_epochs = 10\n",
    "best_acc = 0.0\n",
    "\n",
    "accuracies = []\n",
    "\n",
    "\n",
    "for size in sizes:\n",
    "    print(f\"\\n=== Training for items {size} ===\")\n",
    "    for epoch in range(1, num_epochs + 1):\n",
    "        # 训练阶段\n",
    "        model.train()\n",
    "        total_loss = 0\n",
    "        \n",
    "        for x, y in train_loader:\n",
    "            x, y = x.to(device), y.to(device)\n",
    "            \n",
    "            optimizer.zero_grad()\n",
    "            outputs = model(x)\n",
    "            loss = criterion(outputs, y)\n",
    "            loss.backward()\n",
    "            optimizer.step()\n",
    "            \n",
    "            total_loss += loss.item()\n",
    "        \n",
    "        # 验证阶段\n",
    "        model.eval()\n",
    "        correct = 0\n",
    "        total = 0\n",
    "        all_preds = []\n",
    "        all_labels = []\n",
    "        \n",
    "        with torch.no_grad():\n",
    "            for x, y in test_loader:\n",
    "                x, y = x.to(device), y.to(device)\n",
    "                outputs = model(x)\n",
    "                _, predicted = torch.max(outputs.data, 1)\n",
    "                total += y.size(0)\n",
    "                correct += (predicted == y).sum().item()\n",
    "                all_preds.extend(predicted.cpu().numpy())\n",
    "                all_labels.extend(y.cpu().numpy())\n",
    "        \n",
    "        acc = correct / total\n",
    "        scheduler.step(acc)\n",
    "        \n",
    "        if acc > best_acc:\n",
    "            best_acc = acc\n",
    "            # 保存最佳模型\n",
    "            # torch.save(model.state_dict(), f'./model_save/ComplexCNN_{size}.pth')\n",
    "        \n",
    "        print(f'Epoch {epoch}/{num_epochs}: Loss={total_loss/len(train_loader):.4f}, Acc={acc:.4f}, Best Acc={best_acc:.4f}')\n",
    "\n",
    "    print(f\"最终最佳准确率: {best_acc:.4f}\")"
   ]
  },
  {
   "cell_type": "code",
   "execution_count": 9,
   "metadata": {},
   "outputs": [
    {
     "data": {
      "image/png": "[encoded data removed]",
      "text/plain": [
       "<Figure size 1000x800 with 2 Axes>"
      ]
     },
     "metadata": {},
     "output_type": "display_data"
    }
   ],
   "source": [
    "# 6. 绘制混淆矩阵（可选）\n",
    "from sklearn.metrics import confusion_matrix\n",
    "import seaborn as sns\n",
    "\n",
    "cm = confusion_matrix(all_labels, all_preds)\n",
    "plt.figure(figsize=(10, 8))\n",
    "sns.heatmap(cm, annot=True, fmt='d', cmap='Blues')\n",
    "plt.title('混淆矩阵', fontproperties=\"SimSun\")\n",
    "plt.ylabel('真实类别', fontproperties=\"SimSun\")\n",
    "plt.xlabel('预测类别', fontproperties=\"SimSun\")\n",
    "plt.xticks(range(4), ['bladerf', 'hackrf0', 'hackrf1', 'limesdr'])\n",
    "plt.yticks(range(4), ['bladerf', 'hackrf0', 'hackrf1', 'limesdr'])\n",
    "# plt.savefig(f'./img/confusion_matrix.png', dpi=300, bbox_inches='tight')\n",
    "plt.show()"
   ]
  },
  {
   "cell_type": "code",
   "execution_count": null,
   "metadata": {},
   "outputs": [],
   "source": []
  }
 ],
 "metadata": {
  "kernelspec": {
   "display_name": "bt",
   "language": "python",
   "name": "python3"
  },
  "language_info": {
   "codemirror_mode": {
    "name": "ipython",
    "version": 3
   },
   "file_extension": ".py",
   "mimetype": "text/x-python",
   "name": "python",
   "nbconvert_exporter": "python",
   "pygments_lexer": "ipython3",
   "version": "3.10.16"
  }
 },
 "nbformat": 4,
 "nbformat_minor": 2
}
